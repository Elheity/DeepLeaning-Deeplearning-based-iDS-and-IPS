{
  "nbformat": 4,
  "nbformat_minor": 0,
  "metadata": {
    "colab": {
      "provenance": []
    },
    "kernelspec": {
      "name": "python3",
      "display_name": "Python 3"
    },
    "language_info": {
      "name": "python"
    }
  },
  "cells": [
    {
      "cell_type": "code",
      "execution_count": 1,
      "metadata": {
        "id": "s5Yuol77K_xi"
      },
      "outputs": [],
      "source": [
        "import pandas as pd\n",
        "import seaborn as sns\n",
        "import matplotlib.pyplot as plt\n",
        "import numpy as np\n"
      ]
    },
    {
      "cell_type": "code",
      "source": [
        "from google.colab import drive\n",
        "drive.mount('/content/drive')"
      ],
      "metadata": {
        "colab": {
          "base_uri": "https://localhost:8080/"
        },
        "id": "YXc0jo-9nF5U",
        "outputId": "cc644175-6ea9-4838-fcf7-be42bb813736"
      },
      "execution_count": 3,
      "outputs": [
        {
          "output_type": "stream",
          "name": "stdout",
          "text": [
            "Mounted at /content/drive\n"
          ]
        }
      ]
    },
    {
      "cell_type": "code",
      "source": [
        "data = pd.read_csv(\"/content/drive/MyDrive/نسخة من IoT Network Intrusion Dataset.csv\")"
      ],
      "metadata": {
        "id": "FiFlO07OLIcs"
      },
      "execution_count": 4,
      "outputs": []
    },
    {
      "cell_type": "code",
      "source": [
        "data.head(10)"
      ],
      "metadata": {
        "colab": {
          "base_uri": "https://localhost:8080/",
          "height": 759
        },
        "id": "oOLws8soLSab",
        "outputId": "e216addf-474a-4d2c-ef5e-9d32fef5385f"
      },
      "execution_count": 56,
      "outputs": [
        {
          "output_type": "execute_result",
          "data": {
            "text/plain": [
              "                                     Flow_ID           Src_IP  Src_Port  \\\n",
              "0   192.168.0.13-192.168.0.16-10000-10101-17     192.168.0.13     10000   \n",
              "1    192.168.0.13-222.160.179.132-554-2179-6  222.160.179.132      2179   \n",
              "2     192.168.0.13-192.168.0.16-9020-52727-6     192.168.0.16     52727   \n",
              "3     192.168.0.13-192.168.0.16-9020-52964-6     192.168.0.16     52964   \n",
              "4  192.168.0.1-239.255.255.250-36763-1900-17      192.168.0.1     36763   \n",
              "5    192.168.0.24-101.79.244.148-41980-443-6     192.168.0.24     41980   \n",
              "6   192.168.0.24-210.89.164.90-60175-8899-17     192.168.0.24     60175   \n",
              "7      192.168.0.24-58.225.75.83-41467-443-6     192.168.0.24     41467   \n",
              "8   192.168.0.13-210.89.164.90-60132-8899-17     192.168.0.13     60132   \n",
              "9    192.168.0.13-111.149.163.151-554-7953-6  111.149.163.151      7953   \n",
              "\n",
              "            Dst_IP  Dst_Port  Protocol               Timestamp  Flow_Duration  \\\n",
              "0     192.168.0.16     10101        17  25/07/2019 03:25:53 AM             75   \n",
              "1     192.168.0.13       554         6  26/05/2019 10:11:06 PM           5310   \n",
              "2     192.168.0.13      9020         6  11/07/2019 01:24:48 AM            141   \n",
              "3     192.168.0.13      9020         6  04/09/2019 03:58:17 AM            151   \n",
              "4  239.255.255.250      1900        17  10/09/2019 01:41:18 AM            153   \n",
              "5   101.79.244.148       443         6  10/09/2019 01:39:13 AM            157   \n",
              "6    210.89.164.90      8899        17  25/07/2019 03:21:01 AM            139   \n",
              "7     58.225.75.83       443         6  11/07/2019 01:52:37 AM            112   \n",
              "8    210.89.164.90      8899        17  25/07/2019 03:21:13 AM             86   \n",
              "9     192.168.0.13       554         6  26/05/2019 10:20:36 PM           6799   \n",
              "\n",
              "   Tot_Fwd_Pkts  Tot_Bwd_Pkts  ...  Active_Std  Active_Max  Active_Min  \\\n",
              "0             1             1  ...         0.0         0.0         0.0   \n",
              "1             1             2  ...         0.0         0.0         0.0   \n",
              "2             0             3  ...         0.0         0.0         0.0   \n",
              "3             0             2  ...         0.0         0.0         0.0   \n",
              "4             2             1  ...         0.0         0.0         0.0   \n",
              "5             2             1  ...         0.0         0.0         0.0   \n",
              "6            20             1  ...         0.0         0.0         0.0   \n",
              "7             0             2  ...         0.0         0.0         0.0   \n",
              "8             1             1  ...         0.0         0.0         0.0   \n",
              "9             0             2  ...         0.0         0.0         0.0   \n",
              "\n",
              "   Idle_Mean     Idle_Std  Idle_Max  Idle_Min    Label    Cat  \\\n",
              "0      75.00     0.000000      75.0      75.0  Anomaly  Mirai   \n",
              "1    2655.00  2261.327486    4254.0    1056.0  Anomaly    DoS   \n",
              "2      70.50     0.707107      71.0      70.0  Anomaly   Scan   \n",
              "3     151.00     0.000000     151.0     151.0  Anomaly  Mirai   \n",
              "4      76.50     0.707107      77.0      76.0  Anomaly  Mirai   \n",
              "5      78.50     6.363961      83.0      74.0  Anomaly  Mirai   \n",
              "6       6.95     1.669384      10.0       4.0  Anomaly  Mirai   \n",
              "7     112.00     0.000000     112.0     112.0  Anomaly   Scan   \n",
              "8      86.00     0.000000      86.0      86.0  Anomaly  Mirai   \n",
              "9    6799.00     0.000000    6799.0    6799.0  Anomaly    DoS   \n",
              "\n",
              "                 Sub_Cat  \n",
              "0      Mirai-Ackflooding  \n",
              "1        DoS-Synflooding  \n",
              "2           Scan Port OS  \n",
              "3  Mirai-Hostbruteforceg  \n",
              "4  Mirai-Hostbruteforceg  \n",
              "5  Mirai-Hostbruteforceg  \n",
              "6     Mirai-UDP Flooding  \n",
              "7           Scan Port OS  \n",
              "8     Mirai-UDP Flooding  \n",
              "9        DoS-Synflooding  \n",
              "\n",
              "[10 rows x 86 columns]"
            ],
            "text/html": [
              "\n",
              "  <div id=\"df-071d9ab1-423c-4f1a-969b-99406fd9c44b\" class=\"colab-df-container\">\n",
              "    <div>\n",
              "<style scoped>\n",
              "    .dataframe tbody tr th:only-of-type {\n",
              "        vertical-align: middle;\n",
              "    }\n",
              "\n",
              "    .dataframe tbody tr th {\n",
              "        vertical-align: top;\n",
              "    }\n",
              "\n",
              "    .dataframe thead th {\n",
              "        text-align: right;\n",
              "    }\n",
              "</style>\n",
              "<table border=\"1\" class=\"dataframe\">\n",
              "  <thead>\n",
              "    <tr style=\"text-align: right;\">\n",
              "      <th></th>\n",
              "      <th>Flow_ID</th>\n",
              "      <th>Src_IP</th>\n",
              "      <th>Src_Port</th>\n",
              "      <th>Dst_IP</th>\n",
              "      <th>Dst_Port</th>\n",
              "      <th>Protocol</th>\n",
              "      <th>Timestamp</th>\n",
              "      <th>Flow_Duration</th>\n",
              "      <th>Tot_Fwd_Pkts</th>\n",
              "      <th>Tot_Bwd_Pkts</th>\n",
              "      <th>...</th>\n",
              "      <th>Active_Std</th>\n",
              "      <th>Active_Max</th>\n",
              "      <th>Active_Min</th>\n",
              "      <th>Idle_Mean</th>\n",
              "      <th>Idle_Std</th>\n",
              "      <th>Idle_Max</th>\n",
              "      <th>Idle_Min</th>\n",
              "      <th>Label</th>\n",
              "      <th>Cat</th>\n",
              "      <th>Sub_Cat</th>\n",
              "    </tr>\n",
              "  </thead>\n",
              "  <tbody>\n",
              "    <tr>\n",
              "      <th>0</th>\n",
              "      <td>192.168.0.13-192.168.0.16-10000-10101-17</td>\n",
              "      <td>192.168.0.13</td>\n",
              "      <td>10000</td>\n",
              "      <td>192.168.0.16</td>\n",
              "      <td>10101</td>\n",
              "      <td>17</td>\n",
              "      <td>25/07/2019 03:25:53 AM</td>\n",
              "      <td>75</td>\n",
              "      <td>1</td>\n",
              "      <td>1</td>\n",
              "      <td>...</td>\n",
              "      <td>0.0</td>\n",
              "      <td>0.0</td>\n",
              "      <td>0.0</td>\n",
              "      <td>75.00</td>\n",
              "      <td>0.000000</td>\n",
              "      <td>75.0</td>\n",
              "      <td>75.0</td>\n",
              "      <td>Anomaly</td>\n",
              "      <td>Mirai</td>\n",
              "      <td>Mirai-Ackflooding</td>\n",
              "    </tr>\n",
              "    <tr>\n",
              "      <th>1</th>\n",
              "      <td>192.168.0.13-222.160.179.132-554-2179-6</td>\n",
              "      <td>222.160.179.132</td>\n",
              "      <td>2179</td>\n",
              "      <td>192.168.0.13</td>\n",
              "      <td>554</td>\n",
              "      <td>6</td>\n",
              "      <td>26/05/2019 10:11:06 PM</td>\n",
              "      <td>5310</td>\n",
              "      <td>1</td>\n",
              "      <td>2</td>\n",
              "      <td>...</td>\n",
              "      <td>0.0</td>\n",
              "      <td>0.0</td>\n",
              "      <td>0.0</td>\n",
              "      <td>2655.00</td>\n",
              "      <td>2261.327486</td>\n",
              "      <td>4254.0</td>\n",
              "      <td>1056.0</td>\n",
              "      <td>Anomaly</td>\n",
              "      <td>DoS</td>\n",
              "      <td>DoS-Synflooding</td>\n",
              "    </tr>\n",
              "    <tr>\n",
              "      <th>2</th>\n",
              "      <td>192.168.0.13-192.168.0.16-9020-52727-6</td>\n",
              "      <td>192.168.0.16</td>\n",
              "      <td>52727</td>\n",
              "      <td>192.168.0.13</td>\n",
              "      <td>9020</td>\n",
              "      <td>6</td>\n",
              "      <td>11/07/2019 01:24:48 AM</td>\n",
              "      <td>141</td>\n",
              "      <td>0</td>\n",
              "      <td>3</td>\n",
              "      <td>...</td>\n",
              "      <td>0.0</td>\n",
              "      <td>0.0</td>\n",
              "      <td>0.0</td>\n",
              "      <td>70.50</td>\n",
              "      <td>0.707107</td>\n",
              "      <td>71.0</td>\n",
              "      <td>70.0</td>\n",
              "      <td>Anomaly</td>\n",
              "      <td>Scan</td>\n",
              "      <td>Scan Port OS</td>\n",
              "    </tr>\n",
              "    <tr>\n",
              "      <th>3</th>\n",
              "      <td>192.168.0.13-192.168.0.16-9020-52964-6</td>\n",
              "      <td>192.168.0.16</td>\n",
              "      <td>52964</td>\n",
              "      <td>192.168.0.13</td>\n",
              "      <td>9020</td>\n",
              "      <td>6</td>\n",
              "      <td>04/09/2019 03:58:17 AM</td>\n",
              "      <td>151</td>\n",
              "      <td>0</td>\n",
              "      <td>2</td>\n",
              "      <td>...</td>\n",
              "      <td>0.0</td>\n",
              "      <td>0.0</td>\n",
              "      <td>0.0</td>\n",
              "      <td>151.00</td>\n",
              "      <td>0.000000</td>\n",
              "      <td>151.0</td>\n",
              "      <td>151.0</td>\n",
              "      <td>Anomaly</td>\n",
              "      <td>Mirai</td>\n",
              "      <td>Mirai-Hostbruteforceg</td>\n",
              "    </tr>\n",
              "    <tr>\n",
              "      <th>4</th>\n",
              "      <td>192.168.0.1-239.255.255.250-36763-1900-17</td>\n",
              "      <td>192.168.0.1</td>\n",
              "      <td>36763</td>\n",
              "      <td>239.255.255.250</td>\n",
              "      <td>1900</td>\n",
              "      <td>17</td>\n",
              "      <td>10/09/2019 01:41:18 AM</td>\n",
              "      <td>153</td>\n",
              "      <td>2</td>\n",
              "      <td>1</td>\n",
              "      <td>...</td>\n",
              "      <td>0.0</td>\n",
              "      <td>0.0</td>\n",
              "      <td>0.0</td>\n",
              "      <td>76.50</td>\n",
              "      <td>0.707107</td>\n",
              "      <td>77.0</td>\n",
              "      <td>76.0</td>\n",
              "      <td>Anomaly</td>\n",
              "      <td>Mirai</td>\n",
              "      <td>Mirai-Hostbruteforceg</td>\n",
              "    </tr>\n",
              "    <tr>\n",
              "      <th>5</th>\n",
              "      <td>192.168.0.24-101.79.244.148-41980-443-6</td>\n",
              "      <td>192.168.0.24</td>\n",
              "      <td>41980</td>\n",
              "      <td>101.79.244.148</td>\n",
              "      <td>443</td>\n",
              "      <td>6</td>\n",
              "      <td>10/09/2019 01:39:13 AM</td>\n",
              "      <td>157</td>\n",
              "      <td>2</td>\n",
              "      <td>1</td>\n",
              "      <td>...</td>\n",
              "      <td>0.0</td>\n",
              "      <td>0.0</td>\n",
              "      <td>0.0</td>\n",
              "      <td>78.50</td>\n",
              "      <td>6.363961</td>\n",
              "      <td>83.0</td>\n",
              "      <td>74.0</td>\n",
              "      <td>Anomaly</td>\n",
              "      <td>Mirai</td>\n",
              "      <td>Mirai-Hostbruteforceg</td>\n",
              "    </tr>\n",
              "    <tr>\n",
              "      <th>6</th>\n",
              "      <td>192.168.0.24-210.89.164.90-60175-8899-17</td>\n",
              "      <td>192.168.0.24</td>\n",
              "      <td>60175</td>\n",
              "      <td>210.89.164.90</td>\n",
              "      <td>8899</td>\n",
              "      <td>17</td>\n",
              "      <td>25/07/2019 03:21:01 AM</td>\n",
              "      <td>139</td>\n",
              "      <td>20</td>\n",
              "      <td>1</td>\n",
              "      <td>...</td>\n",
              "      <td>0.0</td>\n",
              "      <td>0.0</td>\n",
              "      <td>0.0</td>\n",
              "      <td>6.95</td>\n",
              "      <td>1.669384</td>\n",
              "      <td>10.0</td>\n",
              "      <td>4.0</td>\n",
              "      <td>Anomaly</td>\n",
              "      <td>Mirai</td>\n",
              "      <td>Mirai-UDP Flooding</td>\n",
              "    </tr>\n",
              "    <tr>\n",
              "      <th>7</th>\n",
              "      <td>192.168.0.24-58.225.75.83-41467-443-6</td>\n",
              "      <td>192.168.0.24</td>\n",
              "      <td>41467</td>\n",
              "      <td>58.225.75.83</td>\n",
              "      <td>443</td>\n",
              "      <td>6</td>\n",
              "      <td>11/07/2019 01:52:37 AM</td>\n",
              "      <td>112</td>\n",
              "      <td>0</td>\n",
              "      <td>2</td>\n",
              "      <td>...</td>\n",
              "      <td>0.0</td>\n",
              "      <td>0.0</td>\n",
              "      <td>0.0</td>\n",
              "      <td>112.00</td>\n",
              "      <td>0.000000</td>\n",
              "      <td>112.0</td>\n",
              "      <td>112.0</td>\n",
              "      <td>Anomaly</td>\n",
              "      <td>Scan</td>\n",
              "      <td>Scan Port OS</td>\n",
              "    </tr>\n",
              "    <tr>\n",
              "      <th>8</th>\n",
              "      <td>192.168.0.13-210.89.164.90-60132-8899-17</td>\n",
              "      <td>192.168.0.13</td>\n",
              "      <td>60132</td>\n",
              "      <td>210.89.164.90</td>\n",
              "      <td>8899</td>\n",
              "      <td>17</td>\n",
              "      <td>25/07/2019 03:21:13 AM</td>\n",
              "      <td>86</td>\n",
              "      <td>1</td>\n",
              "      <td>1</td>\n",
              "      <td>...</td>\n",
              "      <td>0.0</td>\n",
              "      <td>0.0</td>\n",
              "      <td>0.0</td>\n",
              "      <td>86.00</td>\n",
              "      <td>0.000000</td>\n",
              "      <td>86.0</td>\n",
              "      <td>86.0</td>\n",
              "      <td>Anomaly</td>\n",
              "      <td>Mirai</td>\n",
              "      <td>Mirai-UDP Flooding</td>\n",
              "    </tr>\n",
              "    <tr>\n",
              "      <th>9</th>\n",
              "      <td>192.168.0.13-111.149.163.151-554-7953-6</td>\n",
              "      <td>111.149.163.151</td>\n",
              "      <td>7953</td>\n",
              "      <td>192.168.0.13</td>\n",
              "      <td>554</td>\n",
              "      <td>6</td>\n",
              "      <td>26/05/2019 10:20:36 PM</td>\n",
              "      <td>6799</td>\n",
              "      <td>0</td>\n",
              "      <td>2</td>\n",
              "      <td>...</td>\n",
              "      <td>0.0</td>\n",
              "      <td>0.0</td>\n",
              "      <td>0.0</td>\n",
              "      <td>6799.00</td>\n",
              "      <td>0.000000</td>\n",
              "      <td>6799.0</td>\n",
              "      <td>6799.0</td>\n",
              "      <td>Anomaly</td>\n",
              "      <td>DoS</td>\n",
              "      <td>DoS-Synflooding</td>\n",
              "    </tr>\n",
              "  </tbody>\n",
              "</table>\n",
              "<p>10 rows × 86 columns</p>\n",
              "</div>\n",
              "    <div class=\"colab-df-buttons\">\n",
              "\n",
              "  <div class=\"colab-df-container\">\n",
              "    <button class=\"colab-df-convert\" onclick=\"convertToInteractive('df-071d9ab1-423c-4f1a-969b-99406fd9c44b')\"\n",
              "            title=\"Convert this dataframe to an interactive table.\"\n",
              "            style=\"display:none;\">\n",
              "\n",
              "  <svg xmlns=\"http://www.w3.org/2000/svg\" height=\"24px\" viewBox=\"0 -960 960 960\">\n",
              "    <path d=\"M120-120v-720h720v720H120Zm60-500h600v-160H180v160Zm220 220h160v-160H400v160Zm0 220h160v-160H400v160ZM180-400h160v-160H180v160Zm440 0h160v-160H620v160ZM180-180h160v-160H180v160Zm440 0h160v-160H620v160Z\"/>\n",
              "  </svg>\n",
              "    </button>\n",
              "\n",
              "  <style>\n",
              "    .colab-df-container {\n",
              "      display:flex;\n",
              "      gap: 12px;\n",
              "    }\n",
              "\n",
              "    .colab-df-convert {\n",
              "      background-color: #E8F0FE;\n",
              "      border: none;\n",
              "      border-radius: 50%;\n",
              "      cursor: pointer;\n",
              "      display: none;\n",
              "      fill: #1967D2;\n",
              "      height: 32px;\n",
              "      padding: 0 0 0 0;\n",
              "      width: 32px;\n",
              "    }\n",
              "\n",
              "    .colab-df-convert:hover {\n",
              "      background-color: #E2EBFA;\n",
              "      box-shadow: 0px 1px 2px rgba(60, 64, 67, 0.3), 0px 1px 3px 1px rgba(60, 64, 67, 0.15);\n",
              "      fill: #174EA6;\n",
              "    }\n",
              "\n",
              "    .colab-df-buttons div {\n",
              "      margin-bottom: 4px;\n",
              "    }\n",
              "\n",
              "    [theme=dark] .colab-df-convert {\n",
              "      background-color: #3B4455;\n",
              "      fill: #D2E3FC;\n",
              "    }\n",
              "\n",
              "    [theme=dark] .colab-df-convert:hover {\n",
              "      background-color: #434B5C;\n",
              "      box-shadow: 0px 1px 3px 1px rgba(0, 0, 0, 0.15);\n",
              "      filter: drop-shadow(0px 1px 2px rgba(0, 0, 0, 0.3));\n",
              "      fill: #FFFFFF;\n",
              "    }\n",
              "  </style>\n",
              "\n",
              "    <script>\n",
              "      const buttonEl =\n",
              "        document.querySelector('#df-071d9ab1-423c-4f1a-969b-99406fd9c44b button.colab-df-convert');\n",
              "      buttonEl.style.display =\n",
              "        google.colab.kernel.accessAllowed ? 'block' : 'none';\n",
              "\n",
              "      async function convertToInteractive(key) {\n",
              "        const element = document.querySelector('#df-071d9ab1-423c-4f1a-969b-99406fd9c44b');\n",
              "        const dataTable =\n",
              "          await google.colab.kernel.invokeFunction('convertToInteractive',\n",
              "                                                    [key], {});\n",
              "        if (!dataTable) return;\n",
              "\n",
              "        const docLinkHtml = 'Like what you see? Visit the ' +\n",
              "          '<a target=\"_blank\" href=https://colab.research.google.com/notebooks/data_table.ipynb>data table notebook</a>'\n",
              "          + ' to learn more about interactive tables.';\n",
              "        element.innerHTML = '';\n",
              "        dataTable['output_type'] = 'display_data';\n",
              "        await google.colab.output.renderOutput(dataTable, element);\n",
              "        const docLink = document.createElement('div');\n",
              "        docLink.innerHTML = docLinkHtml;\n",
              "        element.appendChild(docLink);\n",
              "      }\n",
              "    </script>\n",
              "  </div>\n",
              "\n",
              "\n",
              "<div id=\"df-dab9637f-9b86-4f4f-b657-f2ca3eee42e7\">\n",
              "  <button class=\"colab-df-quickchart\" onclick=\"quickchart('df-dab9637f-9b86-4f4f-b657-f2ca3eee42e7')\"\n",
              "            title=\"Suggest charts\"\n",
              "            style=\"display:none;\">\n",
              "\n",
              "<svg xmlns=\"http://www.w3.org/2000/svg\" height=\"24px\"viewBox=\"0 0 24 24\"\n",
              "     width=\"24px\">\n",
              "    <g>\n",
              "        <path d=\"M19 3H5c-1.1 0-2 .9-2 2v14c0 1.1.9 2 2 2h14c1.1 0 2-.9 2-2V5c0-1.1-.9-2-2-2zM9 17H7v-7h2v7zm4 0h-2V7h2v10zm4 0h-2v-4h2v4z\"/>\n",
              "    </g>\n",
              "</svg>\n",
              "  </button>\n",
              "\n",
              "<style>\n",
              "  .colab-df-quickchart {\n",
              "      --bg-color: #E8F0FE;\n",
              "      --fill-color: #1967D2;\n",
              "      --hover-bg-color: #E2EBFA;\n",
              "      --hover-fill-color: #174EA6;\n",
              "      --disabled-fill-color: #AAA;\n",
              "      --disabled-bg-color: #DDD;\n",
              "  }\n",
              "\n",
              "  [theme=dark] .colab-df-quickchart {\n",
              "      --bg-color: #3B4455;\n",
              "      --fill-color: #D2E3FC;\n",
              "      --hover-bg-color: #434B5C;\n",
              "      --hover-fill-color: #FFFFFF;\n",
              "      --disabled-bg-color: #3B4455;\n",
              "      --disabled-fill-color: #666;\n",
              "  }\n",
              "\n",
              "  .colab-df-quickchart {\n",
              "    background-color: var(--bg-color);\n",
              "    border: none;\n",
              "    border-radius: 50%;\n",
              "    cursor: pointer;\n",
              "    display: none;\n",
              "    fill: var(--fill-color);\n",
              "    height: 32px;\n",
              "    padding: 0;\n",
              "    width: 32px;\n",
              "  }\n",
              "\n",
              "  .colab-df-quickchart:hover {\n",
              "    background-color: var(--hover-bg-color);\n",
              "    box-shadow: 0 1px 2px rgba(60, 64, 67, 0.3), 0 1px 3px 1px rgba(60, 64, 67, 0.15);\n",
              "    fill: var(--button-hover-fill-color);\n",
              "  }\n",
              "\n",
              "  .colab-df-quickchart-complete:disabled,\n",
              "  .colab-df-quickchart-complete:disabled:hover {\n",
              "    background-color: var(--disabled-bg-color);\n",
              "    fill: var(--disabled-fill-color);\n",
              "    box-shadow: none;\n",
              "  }\n",
              "\n",
              "  .colab-df-spinner {\n",
              "    border: 2px solid var(--fill-color);\n",
              "    border-color: transparent;\n",
              "    border-bottom-color: var(--fill-color);\n",
              "    animation:\n",
              "      spin 1s steps(1) infinite;\n",
              "  }\n",
              "\n",
              "  @keyframes spin {\n",
              "    0% {\n",
              "      border-color: transparent;\n",
              "      border-bottom-color: var(--fill-color);\n",
              "      border-left-color: var(--fill-color);\n",
              "    }\n",
              "    20% {\n",
              "      border-color: transparent;\n",
              "      border-left-color: var(--fill-color);\n",
              "      border-top-color: var(--fill-color);\n",
              "    }\n",
              "    30% {\n",
              "      border-color: transparent;\n",
              "      border-left-color: var(--fill-color);\n",
              "      border-top-color: var(--fill-color);\n",
              "      border-right-color: var(--fill-color);\n",
              "    }\n",
              "    40% {\n",
              "      border-color: transparent;\n",
              "      border-right-color: var(--fill-color);\n",
              "      border-top-color: var(--fill-color);\n",
              "    }\n",
              "    60% {\n",
              "      border-color: transparent;\n",
              "      border-right-color: var(--fill-color);\n",
              "    }\n",
              "    80% {\n",
              "      border-color: transparent;\n",
              "      border-right-color: var(--fill-color);\n",
              "      border-bottom-color: var(--fill-color);\n",
              "    }\n",
              "    90% {\n",
              "      border-color: transparent;\n",
              "      border-bottom-color: var(--fill-color);\n",
              "    }\n",
              "  }\n",
              "</style>\n",
              "\n",
              "  <script>\n",
              "    async function quickchart(key) {\n",
              "      const quickchartButtonEl =\n",
              "        document.querySelector('#' + key + ' button');\n",
              "      quickchartButtonEl.disabled = true;  // To prevent multiple clicks.\n",
              "      quickchartButtonEl.classList.add('colab-df-spinner');\n",
              "      try {\n",
              "        const charts = await google.colab.kernel.invokeFunction(\n",
              "            'suggestCharts', [key], {});\n",
              "      } catch (error) {\n",
              "        console.error('Error during call to suggestCharts:', error);\n",
              "      }\n",
              "      quickchartButtonEl.classList.remove('colab-df-spinner');\n",
              "      quickchartButtonEl.classList.add('colab-df-quickchart-complete');\n",
              "    }\n",
              "    (() => {\n",
              "      let quickchartButtonEl =\n",
              "        document.querySelector('#df-dab9637f-9b86-4f4f-b657-f2ca3eee42e7 button');\n",
              "      quickchartButtonEl.style.display =\n",
              "        google.colab.kernel.accessAllowed ? 'block' : 'none';\n",
              "    })();\n",
              "  </script>\n",
              "</div>\n",
              "    </div>\n",
              "  </div>\n"
            ]
          },
          "metadata": {},
          "execution_count": 56
        }
      ]
    },
    {
      "cell_type": "markdown",
      "source": [],
      "metadata": {
        "id": "i8pbL6oJLr5u"
      }
    },
    {
      "cell_type": "code",
      "source": [
        "data.info()"
      ],
      "metadata": {
        "colab": {
          "base_uri": "https://localhost:8080/"
        },
        "id": "Os_02ewQLVRT",
        "outputId": "f7143723-7a13-4cfa-d51b-f88cd38eb8b9"
      },
      "execution_count": 57,
      "outputs": [
        {
          "output_type": "stream",
          "name": "stdout",
          "text": [
            "<class 'pandas.core.frame.DataFrame'>\n",
            "RangeIndex: 625783 entries, 0 to 625782\n",
            "Data columns (total 86 columns):\n",
            " #   Column             Non-Null Count   Dtype  \n",
            "---  ------             --------------   -----  \n",
            " 0   Flow_ID            625783 non-null  object \n",
            " 1   Src_IP             625783 non-null  object \n",
            " 2   Src_Port           625783 non-null  int64  \n",
            " 3   Dst_IP             625783 non-null  object \n",
            " 4   Dst_Port           625783 non-null  int64  \n",
            " 5   Protocol           625783 non-null  int64  \n",
            " 6   Timestamp          625783 non-null  object \n",
            " 7   Flow_Duration      625783 non-null  int64  \n",
            " 8   Tot_Fwd_Pkts       625783 non-null  int64  \n",
            " 9   Tot_Bwd_Pkts       625783 non-null  int64  \n",
            " 10  TotLen_Fwd_Pkts    625783 non-null  float64\n",
            " 11  TotLen_Bwd_Pkts    625783 non-null  float64\n",
            " 12  Fwd_Pkt_Len_Max    625783 non-null  float64\n",
            " 13  Fwd_Pkt_Len_Min    625783 non-null  float64\n",
            " 14  Fwd_Pkt_Len_Mean   625783 non-null  float64\n",
            " 15  Fwd_Pkt_Len_Std    625783 non-null  float64\n",
            " 16  Bwd_Pkt_Len_Max    625783 non-null  float64\n",
            " 17  Bwd_Pkt_Len_Min    625783 non-null  float64\n",
            " 18  Bwd_Pkt_Len_Mean   625783 non-null  float64\n",
            " 19  Bwd_Pkt_Len_Std    625783 non-null  float64\n",
            " 20  Flow_Byts/s        625783 non-null  float64\n",
            " 21  Flow_Pkts/s        625783 non-null  float64\n",
            " 22  Flow_IAT_Mean      625783 non-null  float64\n",
            " 23  Flow_IAT_Std       625783 non-null  float64\n",
            " 24  Flow_IAT_Max       625783 non-null  float64\n",
            " 25  Flow_IAT_Min       625783 non-null  float64\n",
            " 26  Fwd_IAT_Tot        625783 non-null  float64\n",
            " 27  Fwd_IAT_Mean       625783 non-null  float64\n",
            " 28  Fwd_IAT_Std        625783 non-null  float64\n",
            " 29  Fwd_IAT_Max        625783 non-null  float64\n",
            " 30  Fwd_IAT_Min        625783 non-null  float64\n",
            " 31  Bwd_IAT_Tot        625783 non-null  float64\n",
            " 32  Bwd_IAT_Mean       625783 non-null  float64\n",
            " 33  Bwd_IAT_Std        625783 non-null  float64\n",
            " 34  Bwd_IAT_Max        625783 non-null  float64\n",
            " 35  Bwd_IAT_Min        625783 non-null  float64\n",
            " 36  Fwd_PSH_Flags      625783 non-null  int64  \n",
            " 37  Bwd_PSH_Flags      625783 non-null  int64  \n",
            " 38  Fwd_URG_Flags      625783 non-null  int64  \n",
            " 39  Bwd_URG_Flags      625783 non-null  int64  \n",
            " 40  Fwd_Header_Len     625783 non-null  int64  \n",
            " 41  Bwd_Header_Len     625783 non-null  int64  \n",
            " 42  Fwd_Pkts/s         625783 non-null  float64\n",
            " 43  Bwd_Pkts/s         625783 non-null  float64\n",
            " 44  Pkt_Len_Min        625783 non-null  float64\n",
            " 45  Pkt_Len_Max        625783 non-null  float64\n",
            " 46  Pkt_Len_Mean       625783 non-null  float64\n",
            " 47  Pkt_Len_Std        625783 non-null  float64\n",
            " 48  Pkt_Len_Var        625783 non-null  float64\n",
            " 49  FIN_Flag_Cnt       625783 non-null  int64  \n",
            " 50  SYN_Flag_Cnt       625783 non-null  int64  \n",
            " 51  RST_Flag_Cnt       625783 non-null  int64  \n",
            " 52  PSH_Flag_Cnt       625783 non-null  int64  \n",
            " 53  ACK_Flag_Cnt       625783 non-null  int64  \n",
            " 54  URG_Flag_Cnt       625783 non-null  int64  \n",
            " 55  CWE_Flag_Count     625783 non-null  int64  \n",
            " 56  ECE_Flag_Cnt       625783 non-null  int64  \n",
            " 57  Down/Up_Ratio      625783 non-null  float64\n",
            " 58  Pkt_Size_Avg       625783 non-null  float64\n",
            " 59  Fwd_Seg_Size_Avg   625783 non-null  float64\n",
            " 60  Bwd_Seg_Size_Avg   625783 non-null  float64\n",
            " 61  Fwd_Byts/b_Avg     625783 non-null  int64  \n",
            " 62  Fwd_Pkts/b_Avg     625783 non-null  int64  \n",
            " 63  Fwd_Blk_Rate_Avg   625783 non-null  int64  \n",
            " 64  Bwd_Byts/b_Avg     625783 non-null  int64  \n",
            " 65  Bwd_Pkts/b_Avg     625783 non-null  int64  \n",
            " 66  Bwd_Blk_Rate_Avg   625783 non-null  int64  \n",
            " 67  Subflow_Fwd_Pkts   625783 non-null  int64  \n",
            " 68  Subflow_Fwd_Byts   625783 non-null  int64  \n",
            " 69  Subflow_Bwd_Pkts   625783 non-null  int64  \n",
            " 70  Subflow_Bwd_Byts   625783 non-null  int64  \n",
            " 71  Init_Fwd_Win_Byts  625783 non-null  int64  \n",
            " 72  Init_Bwd_Win_Byts  625783 non-null  int64  \n",
            " 73  Fwd_Act_Data_Pkts  625783 non-null  int64  \n",
            " 74  Fwd_Seg_Size_Min   625783 non-null  int64  \n",
            " 75  Active_Mean        625783 non-null  float64\n",
            " 76  Active_Std         625783 non-null  float64\n",
            " 77  Active_Max         625783 non-null  float64\n",
            " 78  Active_Min         625783 non-null  float64\n",
            " 79  Idle_Mean          625783 non-null  float64\n",
            " 80  Idle_Std           625783 non-null  float64\n",
            " 81  Idle_Max           625783 non-null  float64\n",
            " 82  Idle_Min           625783 non-null  float64\n",
            " 83  Label              625783 non-null  object \n",
            " 84  Cat                625783 non-null  object \n",
            " 85  Sub_Cat            625783 non-null  object \n",
            "dtypes: float64(45), int64(34), object(7)\n",
            "memory usage: 410.6+ MB\n"
          ]
        }
      ]
    },
    {
      "cell_type": "code",
      "source": [
        "data.isna().sum()"
      ],
      "metadata": {
        "colab": {
          "base_uri": "https://localhost:8080/"
        },
        "id": "0z-I-SFvLW4R",
        "outputId": "1bdda9ec-f248-4434-9cbe-fc5b905f4f35"
      },
      "execution_count": 58,
      "outputs": [
        {
          "output_type": "execute_result",
          "data": {
            "text/plain": [
              "Flow_ID     0\n",
              "Src_IP      0\n",
              "Src_Port    0\n",
              "Dst_IP      0\n",
              "Dst_Port    0\n",
              "           ..\n",
              "Idle_Max    0\n",
              "Idle_Min    0\n",
              "Label       0\n",
              "Cat         0\n",
              "Sub_Cat     0\n",
              "Length: 86, dtype: int64"
            ]
          },
          "metadata": {},
          "execution_count": 58
        }
      ]
    },
    {
      "cell_type": "code",
      "source": [
        "data[\"Label\"].value_counts()"
      ],
      "metadata": {
        "colab": {
          "base_uri": "https://localhost:8080/"
        },
        "id": "c4bybb2VLaDi",
        "outputId": "16c535b2-4f37-42de-c799-7f3acf5de508"
      },
      "execution_count": 59,
      "outputs": [
        {
          "output_type": "execute_result",
          "data": {
            "text/plain": [
              "Anomaly    585710\n",
              "Normal      40073\n",
              "Name: Label, dtype: int64"
            ]
          },
          "metadata": {},
          "execution_count": 59
        }
      ]
    },
    {
      "cell_type": "code",
      "source": [
        "data[\"Cat\"].value_counts()"
      ],
      "metadata": {
        "colab": {
          "base_uri": "https://localhost:8080/"
        },
        "id": "-VLGPeQ85KaN",
        "outputId": "a1fa6227-aff4-4396-84eb-bb84aaccfc5c"
      },
      "execution_count": 60,
      "outputs": [
        {
          "output_type": "execute_result",
          "data": {
            "text/plain": [
              "Mirai                415677\n",
              "Scan                  75265\n",
              "DoS                   59391\n",
              "Normal                40073\n",
              "MITM ARP Spoofing     35377\n",
              "Name: Cat, dtype: int64"
            ]
          },
          "metadata": {},
          "execution_count": 60
        }
      ]
    },
    {
      "cell_type": "code",
      "source": [
        "data[\"Sub_Cat\"].value_counts()"
      ],
      "metadata": {
        "colab": {
          "base_uri": "https://localhost:8080/"
        },
        "id": "TF6aKA4b5KwN",
        "outputId": "a732aaeb-1ba9-46f6-dd8b-bcfb68d40a44"
      },
      "execution_count": 61,
      "outputs": [
        {
          "output_type": "execute_result",
          "data": {
            "text/plain": [
              "Mirai-UDP Flooding       183554\n",
              "Mirai-Hostbruteforceg    121181\n",
              "DoS-Synflooding           59391\n",
              "Mirai-HTTP Flooding       55818\n",
              "Mirai-Ackflooding         55124\n",
              "Scan Port OS              53073\n",
              "Normal                    40073\n",
              "MITM ARP Spoofing         35377\n",
              "Scan Hostport             22192\n",
              "Name: Sub_Cat, dtype: int64"
            ]
          },
          "metadata": {},
          "execution_count": 61
        }
      ]
    },
    {
      "cell_type": "code",
      "source": [
        "print(data.describe())"
      ],
      "metadata": {
        "colab": {
          "base_uri": "https://localhost:8080/"
        },
        "id": "ihlBJIMVnn8T",
        "outputId": "949981b7-dcdd-41e0-a514-d744b2896940"
      },
      "execution_count": 62,
      "outputs": [
        {
          "output_type": "stream",
          "name": "stdout",
          "text": [
            "            Src_Port       Dst_Port       Protocol  Flow_Duration  \\\n",
            "count  625783.000000  625783.000000  625783.000000  625783.000000   \n",
            "mean    35026.156190   16387.027479       9.971436     635.422865   \n",
            "std     24721.047752   17550.363037       5.379857    3496.740723   \n",
            "min         0.000000       0.000000       0.000000       0.000000   \n",
            "25%      9020.000000    8899.000000       6.000000      76.000000   \n",
            "50%     51991.000000    9020.000000       6.000000     132.000000   \n",
            "75%     56361.000000   10101.000000      17.000000     221.000000   \n",
            "max     65500.000000   65371.000000      17.000000   99984.000000   \n",
            "\n",
            "        Tot_Fwd_Pkts  Tot_Bwd_Pkts  TotLen_Fwd_Pkts  TotLen_Bwd_Pkts  \\\n",
            "count  625783.000000  625783.00000    625783.000000    625783.000000   \n",
            "mean        1.675566       1.46853       570.738980       929.280973   \n",
            "std         4.309970       1.21949      1161.873195      1731.760875   \n",
            "min         0.000000       1.00000         0.000000         0.000000   \n",
            "25%         0.000000       1.00000         0.000000        18.000000   \n",
            "50%         1.000000       1.00000        32.000000       104.000000   \n",
            "75%         2.000000       2.00000      1388.000000      1441.000000   \n",
            "max       186.000000     560.00000    109846.000000    773284.000000   \n",
            "\n",
            "       Fwd_Pkt_Len_Max  Fwd_Pkt_Len_Min  ...  Fwd_Act_Data_Pkts  \\\n",
            "count    625783.000000    625783.000000  ...      625783.000000   \n",
            "mean        392.489726       348.126571  ...           1.509913   \n",
            "std         619.575865       588.161845  ...           4.332737   \n",
            "min           0.000000         0.000000  ...           0.000000   \n",
            "25%           0.000000         0.000000  ...           0.000000   \n",
            "50%          30.000000        30.000000  ...           1.000000   \n",
            "75%        1388.000000       386.000000  ...           1.000000   \n",
            "max        1464.000000      1464.000000  ...         186.000000   \n",
            "\n",
            "       Fwd_Seg_Size_Min    Active_Mean     Active_Std     Active_Max  \\\n",
            "count          625783.0  625783.000000  625783.000000  625783.000000   \n",
            "mean                0.0       3.764405       0.353385       4.248735   \n",
            "std                 0.0      68.064508      20.723370      88.934148   \n",
            "min                 0.0       0.000000       0.000000       0.000000   \n",
            "25%                 0.0       0.000000       0.000000       0.000000   \n",
            "50%                 0.0       0.000000       0.000000       0.000000   \n",
            "75%                 0.0       0.000000       0.000000       0.000000   \n",
            "max                 0.0    9044.625000    8598.658250   26785.000000   \n",
            "\n",
            "          Active_Min      Idle_Mean       Idle_Std       Idle_Max  \\\n",
            "count  625783.000000  625783.000000  625783.000000  625783.000000   \n",
            "mean        3.462159     502.503832      52.403995     561.540512   \n",
            "std        64.111043    2112.957360    1153.184897    2866.497606   \n",
            "min         0.000000       0.000000       0.000000       0.000000   \n",
            "25%         0.000000      73.000000       0.000000      74.000000   \n",
            "50%         0.000000      93.500000       0.000000     114.000000   \n",
            "75%         0.000000     141.000000       1.527525     154.000000   \n",
            "max      6659.000000   99973.000000   67071.906623   99973.000000   \n",
            "\n",
            "            Idle_Min  \n",
            "count  625783.000000  \n",
            "mean      467.264459  \n",
            "std      1931.909971  \n",
            "min         0.000000  \n",
            "25%        71.000000  \n",
            "50%        78.000000  \n",
            "75%       130.000000  \n",
            "max     99973.000000  \n",
            "\n",
            "[8 rows x 79 columns]\n"
          ]
        }
      ]
    },
    {
      "cell_type": "code",
      "source": [],
      "metadata": {
        "id": "sxS_1OJTrMjb"
      },
      "execution_count": 62,
      "outputs": []
    },
    {
      "cell_type": "code",
      "source": [
        "c = 0\n",
        "for i in data[\"Flow_Duration\"]:\n",
        "  if i < 100 :\n",
        "    #print (i)\n",
        "    c += 1\n",
        "print( \"The Count of unnmormal values\", c)"
      ],
      "metadata": {
        "colab": {
          "base_uri": "https://localhost:8080/"
        },
        "id": "VmWjZQrQrlG8",
        "outputId": "b39b76ee-0244-4a83-8898-e629fe6cdb07"
      },
      "execution_count": 20,
      "outputs": [
        {
          "output_type": "stream",
          "name": "stdout",
          "text": [
            "The Count of unnmormal values 207553\n"
          ]
        }
      ]
    },
    {
      "cell_type": "code",
      "source": [
        "unnormal_flow_duration_df = data.loc[data[\"Flow_Duration\"] < 100]"
      ],
      "metadata": {
        "id": "4yQPmOvSuiQz"
      },
      "execution_count": 18,
      "outputs": []
    },
    {
      "cell_type": "code",
      "source": [
        "suspicious_rows = data[data[\"Flow_Duration\"] < 100]\n",
        "print(\"Number of suspicious rows:\", len(suspicious_rows))\n",
        "print(\"Suspicious rows details:\")\n",
        "print(suspicious_rows[\"Flow_Duration\"])\n"
      ],
      "metadata": {
        "colab": {
          "base_uri": "https://localhost:8080/"
        },
        "id": "g2HKRiDdwMki",
        "outputId": "dc74e4ac-25ca-49eb-c1bf-816b924cb02e"
      },
      "execution_count": 26,
      "outputs": [
        {
          "output_type": "stream",
          "name": "stdout",
          "text": [
            "Number of suspicious rows: 207553\n",
            "Suspicious rows details:\n",
            "Timestamp\n",
            "2019-07-25 03:25:53    75\n",
            "2019-07-25 03:21:13    86\n",
            "2019-04-09 03:58:32    54\n",
            "2019-07-25 03:20:43    40\n",
            "2019-08-20 03:04:01    74\n",
            "                       ..\n",
            "2019-07-25 03:20:24    86\n",
            "2019-10-09 01:39:46    28\n",
            "2019-07-25 03:21:00    29\n",
            "2019-07-25 03:23:46    75\n",
            "2019-11-07 01:29:09    77\n",
            "Name: Flow_Duration, Length: 207553, dtype: int64\n"
          ]
        }
      ]
    },
    {
      "cell_type": "code",
      "source": [
        "unnormal_flow_duration_df.head(10)"
      ],
      "metadata": {
        "colab": {
          "base_uri": "https://localhost:8080/",
          "height": 808
        },
        "id": "e-bUxII1vMgr",
        "outputId": "e6d2cf2d-19ef-4ef7-90e9-117927ee5972"
      },
      "execution_count": 21,
      "outputs": [
        {
          "output_type": "execute_result",
          "data": {
            "text/plain": [
              "                                                      Flow_ID          Src_IP  \\\n",
              "Timestamp                                                                       \n",
              "2019-07-25 03:25:53  192.168.0.13-192.168.0.16-10000-10101-17    192.168.0.13   \n",
              "2019-07-25 03:21:13  192.168.0.13-210.89.164.90-60132-8899-17    192.168.0.13   \n",
              "2019-04-09 03:58:32     192.168.0.24-40.100.49.34-10102-443-6    192.168.0.24   \n",
              "2019-07-25 03:20:43  192.168.0.24-210.89.164.90-60079-8899-17    192.168.0.24   \n",
              "2019-08-20 03:04:01   192.168.0.24-104.74.213.186-51875-443-6  104.74.213.186   \n",
              "2019-11-07 01:24:22    192.168.0.13-192.168.0.16-9020-52727-6    192.168.0.16   \n",
              "2019-05-20 04:57:57    192.168.0.13-192.168.0.16-9020-49784-6    192.168.0.13   \n",
              "2019-05-31 03:16:07    192.168.0.13-192.168.0.16-9020-53182-6    192.168.0.16   \n",
              "2019-07-25 03:21:31  192.168.0.13-210.89.164.90-60222-8899-17    192.168.0.13   \n",
              "2019-08-20 03:03:55   192.168.0.24-104.74.213.186-51875-443-6  104.74.213.186   \n",
              "\n",
              "                     Src_Port         Dst_IP  Dst_Port  Protocol  \\\n",
              "Timestamp                                                          \n",
              "2019-07-25 03:25:53     10000   192.168.0.16     10101        17   \n",
              "2019-07-25 03:21:13     60132  210.89.164.90      8899        17   \n",
              "2019-04-09 03:58:32     10102   40.100.49.34       443         6   \n",
              "2019-07-25 03:20:43     60079  210.89.164.90      8899        17   \n",
              "2019-08-20 03:04:01       443   192.168.0.24     51875         6   \n",
              "2019-11-07 01:24:22     52727   192.168.0.13      9020         6   \n",
              "2019-05-20 04:57:57      9020   192.168.0.16     49784         6   \n",
              "2019-05-31 03:16:07     53182   192.168.0.13      9020         6   \n",
              "2019-07-25 03:21:31     60222  210.89.164.90      8899        17   \n",
              "2019-08-20 03:03:55       443   192.168.0.24     51875         6   \n",
              "\n",
              "                     Flow_Duration  Tot_Fwd_Pkts  Tot_Bwd_Pkts  \\\n",
              "Timestamp                                                        \n",
              "2019-07-25 03:25:53             75             1             1   \n",
              "2019-07-25 03:21:13             86             1             1   \n",
              "2019-04-09 03:58:32             54             2             3   \n",
              "2019-07-25 03:20:43             40            10             1   \n",
              "2019-08-20 03:04:01             74             1             1   \n",
              "2019-11-07 01:24:22             73             1             1   \n",
              "2019-05-20 04:57:57             73             0             2   \n",
              "2019-05-31 03:16:07             89             0             2   \n",
              "2019-07-25 03:21:31             13             1             1   \n",
              "2019-08-20 03:03:55             80             1             1   \n",
              "\n",
              "                     TotLen_Fwd_Pkts  ...  Active_Max  Active_Min  Idle_Mean  \\\n",
              "Timestamp                             ...                                      \n",
              "2019-07-25 03:25:53            982.0  ...         0.0         0.0  75.000000   \n",
              "2019-07-25 03:21:13             32.0  ...         0.0         0.0  86.000000   \n",
              "2019-04-09 03:58:32              0.0  ...         0.0         0.0  13.500000   \n",
              "2019-07-25 03:20:43            320.0  ...         1.0         1.0   4.333333   \n",
              "2019-08-20 03:04:01            376.0  ...         0.0         0.0  74.000000   \n",
              "2019-11-07 01:24:22              0.0  ...         0.0         0.0  73.000000   \n",
              "2019-05-20 04:57:57              0.0  ...         0.0         0.0  73.000000   \n",
              "2019-05-31 03:16:07              0.0  ...         0.0         0.0  89.000000   \n",
              "2019-07-25 03:21:31             32.0  ...         0.0         0.0  13.000000   \n",
              "2019-08-20 03:03:55           1448.0  ...         0.0         0.0  80.000000   \n",
              "\n",
              "                     Idle_Std  Idle_Max  Idle_Min    Label                Cat  \\\n",
              "Timestamp                                                                       \n",
              "2019-07-25 03:25:53  0.000000      75.0      75.0  Anomaly              Mirai   \n",
              "2019-07-25 03:21:13  0.000000      86.0      86.0  Anomaly              Mirai   \n",
              "2019-04-09 03:58:32  4.795832      20.0       9.0  Anomaly              Mirai   \n",
              "2019-07-25 03:20:43  1.224745       7.0       3.0  Anomaly              Mirai   \n",
              "2019-08-20 03:04:01  0.000000      74.0      74.0  Anomaly              Mirai   \n",
              "2019-11-07 01:24:22  0.000000      73.0      73.0  Anomaly               Scan   \n",
              "2019-05-20 04:57:57  0.000000      73.0      73.0   Normal             Normal   \n",
              "2019-05-31 03:16:07  0.000000      89.0      89.0  Anomaly  MITM ARP Spoofing   \n",
              "2019-07-25 03:21:31  0.000000      13.0      13.0  Anomaly              Mirai   \n",
              "2019-08-20 03:03:55  0.000000      80.0      80.0  Anomaly              Mirai   \n",
              "\n",
              "                                   Sub_Cat  Accumulated_Flow  \n",
              "Timestamp                                                     \n",
              "2019-07-25 03:25:53      Mirai-Ackflooding                 1  \n",
              "2019-07-25 03:21:13     Mirai-UDP Flooding                27  \n",
              "2019-04-09 03:58:32  Mirai-Hostbruteforceg                29  \n",
              "2019-07-25 03:20:43     Mirai-UDP Flooding                45  \n",
              "2019-08-20 03:04:01  Mirai-Hostbruteforceg                57  \n",
              "2019-11-07 01:24:22           Scan Port OS                65  \n",
              "2019-05-20 04:57:57                 Normal                90  \n",
              "2019-05-31 03:16:07      MITM ARP Spoofing                91  \n",
              "2019-07-25 03:21:31     Mirai-UDP Flooding                92  \n",
              "2019-08-20 03:03:55  Mirai-Hostbruteforceg                93  \n",
              "\n",
              "[10 rows x 86 columns]"
            ],
            "text/html": [
              "\n",
              "  <div id=\"df-67dc0ecf-c0f3-4de5-9822-31d891fa2bb9\" class=\"colab-df-container\">\n",
              "    <div>\n",
              "<style scoped>\n",
              "    .dataframe tbody tr th:only-of-type {\n",
              "        vertical-align: middle;\n",
              "    }\n",
              "\n",
              "    .dataframe tbody tr th {\n",
              "        vertical-align: top;\n",
              "    }\n",
              "\n",
              "    .dataframe thead th {\n",
              "        text-align: right;\n",
              "    }\n",
              "</style>\n",
              "<table border=\"1\" class=\"dataframe\">\n",
              "  <thead>\n",
              "    <tr style=\"text-align: right;\">\n",
              "      <th></th>\n",
              "      <th>Flow_ID</th>\n",
              "      <th>Src_IP</th>\n",
              "      <th>Src_Port</th>\n",
              "      <th>Dst_IP</th>\n",
              "      <th>Dst_Port</th>\n",
              "      <th>Protocol</th>\n",
              "      <th>Flow_Duration</th>\n",
              "      <th>Tot_Fwd_Pkts</th>\n",
              "      <th>Tot_Bwd_Pkts</th>\n",
              "      <th>TotLen_Fwd_Pkts</th>\n",
              "      <th>...</th>\n",
              "      <th>Active_Max</th>\n",
              "      <th>Active_Min</th>\n",
              "      <th>Idle_Mean</th>\n",
              "      <th>Idle_Std</th>\n",
              "      <th>Idle_Max</th>\n",
              "      <th>Idle_Min</th>\n",
              "      <th>Label</th>\n",
              "      <th>Cat</th>\n",
              "      <th>Sub_Cat</th>\n",
              "      <th>Accumulated_Flow</th>\n",
              "    </tr>\n",
              "    <tr>\n",
              "      <th>Timestamp</th>\n",
              "      <th></th>\n",
              "      <th></th>\n",
              "      <th></th>\n",
              "      <th></th>\n",
              "      <th></th>\n",
              "      <th></th>\n",
              "      <th></th>\n",
              "      <th></th>\n",
              "      <th></th>\n",
              "      <th></th>\n",
              "      <th></th>\n",
              "      <th></th>\n",
              "      <th></th>\n",
              "      <th></th>\n",
              "      <th></th>\n",
              "      <th></th>\n",
              "      <th></th>\n",
              "      <th></th>\n",
              "      <th></th>\n",
              "      <th></th>\n",
              "      <th></th>\n",
              "    </tr>\n",
              "  </thead>\n",
              "  <tbody>\n",
              "    <tr>\n",
              "      <th>2019-07-25 03:25:53</th>\n",
              "      <td>192.168.0.13-192.168.0.16-10000-10101-17</td>\n",
              "      <td>192.168.0.13</td>\n",
              "      <td>10000</td>\n",
              "      <td>192.168.0.16</td>\n",
              "      <td>10101</td>\n",
              "      <td>17</td>\n",
              "      <td>75</td>\n",
              "      <td>1</td>\n",
              "      <td>1</td>\n",
              "      <td>982.0</td>\n",
              "      <td>...</td>\n",
              "      <td>0.0</td>\n",
              "      <td>0.0</td>\n",
              "      <td>75.000000</td>\n",
              "      <td>0.000000</td>\n",
              "      <td>75.0</td>\n",
              "      <td>75.0</td>\n",
              "      <td>Anomaly</td>\n",
              "      <td>Mirai</td>\n",
              "      <td>Mirai-Ackflooding</td>\n",
              "      <td>1</td>\n",
              "    </tr>\n",
              "    <tr>\n",
              "      <th>2019-07-25 03:21:13</th>\n",
              "      <td>192.168.0.13-210.89.164.90-60132-8899-17</td>\n",
              "      <td>192.168.0.13</td>\n",
              "      <td>60132</td>\n",
              "      <td>210.89.164.90</td>\n",
              "      <td>8899</td>\n",
              "      <td>17</td>\n",
              "      <td>86</td>\n",
              "      <td>1</td>\n",
              "      <td>1</td>\n",
              "      <td>32.0</td>\n",
              "      <td>...</td>\n",
              "      <td>0.0</td>\n",
              "      <td>0.0</td>\n",
              "      <td>86.000000</td>\n",
              "      <td>0.000000</td>\n",
              "      <td>86.0</td>\n",
              "      <td>86.0</td>\n",
              "      <td>Anomaly</td>\n",
              "      <td>Mirai</td>\n",
              "      <td>Mirai-UDP Flooding</td>\n",
              "      <td>27</td>\n",
              "    </tr>\n",
              "    <tr>\n",
              "      <th>2019-04-09 03:58:32</th>\n",
              "      <td>192.168.0.24-40.100.49.34-10102-443-6</td>\n",
              "      <td>192.168.0.24</td>\n",
              "      <td>10102</td>\n",
              "      <td>40.100.49.34</td>\n",
              "      <td>443</td>\n",
              "      <td>6</td>\n",
              "      <td>54</td>\n",
              "      <td>2</td>\n",
              "      <td>3</td>\n",
              "      <td>0.0</td>\n",
              "      <td>...</td>\n",
              "      <td>0.0</td>\n",
              "      <td>0.0</td>\n",
              "      <td>13.500000</td>\n",
              "      <td>4.795832</td>\n",
              "      <td>20.0</td>\n",
              "      <td>9.0</td>\n",
              "      <td>Anomaly</td>\n",
              "      <td>Mirai</td>\n",
              "      <td>Mirai-Hostbruteforceg</td>\n",
              "      <td>29</td>\n",
              "    </tr>\n",
              "    <tr>\n",
              "      <th>2019-07-25 03:20:43</th>\n",
              "      <td>192.168.0.24-210.89.164.90-60079-8899-17</td>\n",
              "      <td>192.168.0.24</td>\n",
              "      <td>60079</td>\n",
              "      <td>210.89.164.90</td>\n",
              "      <td>8899</td>\n",
              "      <td>17</td>\n",
              "      <td>40</td>\n",
              "      <td>10</td>\n",
              "      <td>1</td>\n",
              "      <td>320.0</td>\n",
              "      <td>...</td>\n",
              "      <td>1.0</td>\n",
              "      <td>1.0</td>\n",
              "      <td>4.333333</td>\n",
              "      <td>1.224745</td>\n",
              "      <td>7.0</td>\n",
              "      <td>3.0</td>\n",
              "      <td>Anomaly</td>\n",
              "      <td>Mirai</td>\n",
              "      <td>Mirai-UDP Flooding</td>\n",
              "      <td>45</td>\n",
              "    </tr>\n",
              "    <tr>\n",
              "      <th>2019-08-20 03:04:01</th>\n",
              "      <td>192.168.0.24-104.74.213.186-51875-443-6</td>\n",
              "      <td>104.74.213.186</td>\n",
              "      <td>443</td>\n",
              "      <td>192.168.0.24</td>\n",
              "      <td>51875</td>\n",
              "      <td>6</td>\n",
              "      <td>74</td>\n",
              "      <td>1</td>\n",
              "      <td>1</td>\n",
              "      <td>376.0</td>\n",
              "      <td>...</td>\n",
              "      <td>0.0</td>\n",
              "      <td>0.0</td>\n",
              "      <td>74.000000</td>\n",
              "      <td>0.000000</td>\n",
              "      <td>74.0</td>\n",
              "      <td>74.0</td>\n",
              "      <td>Anomaly</td>\n",
              "      <td>Mirai</td>\n",
              "      <td>Mirai-Hostbruteforceg</td>\n",
              "      <td>57</td>\n",
              "    </tr>\n",
              "    <tr>\n",
              "      <th>2019-11-07 01:24:22</th>\n",
              "      <td>192.168.0.13-192.168.0.16-9020-52727-6</td>\n",
              "      <td>192.168.0.16</td>\n",
              "      <td>52727</td>\n",
              "      <td>192.168.0.13</td>\n",
              "      <td>9020</td>\n",
              "      <td>6</td>\n",
              "      <td>73</td>\n",
              "      <td>1</td>\n",
              "      <td>1</td>\n",
              "      <td>0.0</td>\n",
              "      <td>...</td>\n",
              "      <td>0.0</td>\n",
              "      <td>0.0</td>\n",
              "      <td>73.000000</td>\n",
              "      <td>0.000000</td>\n",
              "      <td>73.0</td>\n",
              "      <td>73.0</td>\n",
              "      <td>Anomaly</td>\n",
              "      <td>Scan</td>\n",
              "      <td>Scan Port OS</td>\n",
              "      <td>65</td>\n",
              "    </tr>\n",
              "    <tr>\n",
              "      <th>2019-05-20 04:57:57</th>\n",
              "      <td>192.168.0.13-192.168.0.16-9020-49784-6</td>\n",
              "      <td>192.168.0.13</td>\n",
              "      <td>9020</td>\n",
              "      <td>192.168.0.16</td>\n",
              "      <td>49784</td>\n",
              "      <td>6</td>\n",
              "      <td>73</td>\n",
              "      <td>0</td>\n",
              "      <td>2</td>\n",
              "      <td>0.0</td>\n",
              "      <td>...</td>\n",
              "      <td>0.0</td>\n",
              "      <td>0.0</td>\n",
              "      <td>73.000000</td>\n",
              "      <td>0.000000</td>\n",
              "      <td>73.0</td>\n",
              "      <td>73.0</td>\n",
              "      <td>Normal</td>\n",
              "      <td>Normal</td>\n",
              "      <td>Normal</td>\n",
              "      <td>90</td>\n",
              "    </tr>\n",
              "    <tr>\n",
              "      <th>2019-05-31 03:16:07</th>\n",
              "      <td>192.168.0.13-192.168.0.16-9020-53182-6</td>\n",
              "      <td>192.168.0.16</td>\n",
              "      <td>53182</td>\n",
              "      <td>192.168.0.13</td>\n",
              "      <td>9020</td>\n",
              "      <td>6</td>\n",
              "      <td>89</td>\n",
              "      <td>0</td>\n",
              "      <td>2</td>\n",
              "      <td>0.0</td>\n",
              "      <td>...</td>\n",
              "      <td>0.0</td>\n",
              "      <td>0.0</td>\n",
              "      <td>89.000000</td>\n",
              "      <td>0.000000</td>\n",
              "      <td>89.0</td>\n",
              "      <td>89.0</td>\n",
              "      <td>Anomaly</td>\n",
              "      <td>MITM ARP Spoofing</td>\n",
              "      <td>MITM ARP Spoofing</td>\n",
              "      <td>91</td>\n",
              "    </tr>\n",
              "    <tr>\n",
              "      <th>2019-07-25 03:21:31</th>\n",
              "      <td>192.168.0.13-210.89.164.90-60222-8899-17</td>\n",
              "      <td>192.168.0.13</td>\n",
              "      <td>60222</td>\n",
              "      <td>210.89.164.90</td>\n",
              "      <td>8899</td>\n",
              "      <td>17</td>\n",
              "      <td>13</td>\n",
              "      <td>1</td>\n",
              "      <td>1</td>\n",
              "      <td>32.0</td>\n",
              "      <td>...</td>\n",
              "      <td>0.0</td>\n",
              "      <td>0.0</td>\n",
              "      <td>13.000000</td>\n",
              "      <td>0.000000</td>\n",
              "      <td>13.0</td>\n",
              "      <td>13.0</td>\n",
              "      <td>Anomaly</td>\n",
              "      <td>Mirai</td>\n",
              "      <td>Mirai-UDP Flooding</td>\n",
              "      <td>92</td>\n",
              "    </tr>\n",
              "    <tr>\n",
              "      <th>2019-08-20 03:03:55</th>\n",
              "      <td>192.168.0.24-104.74.213.186-51875-443-6</td>\n",
              "      <td>104.74.213.186</td>\n",
              "      <td>443</td>\n",
              "      <td>192.168.0.24</td>\n",
              "      <td>51875</td>\n",
              "      <td>6</td>\n",
              "      <td>80</td>\n",
              "      <td>1</td>\n",
              "      <td>1</td>\n",
              "      <td>1448.0</td>\n",
              "      <td>...</td>\n",
              "      <td>0.0</td>\n",
              "      <td>0.0</td>\n",
              "      <td>80.000000</td>\n",
              "      <td>0.000000</td>\n",
              "      <td>80.0</td>\n",
              "      <td>80.0</td>\n",
              "      <td>Anomaly</td>\n",
              "      <td>Mirai</td>\n",
              "      <td>Mirai-Hostbruteforceg</td>\n",
              "      <td>93</td>\n",
              "    </tr>\n",
              "  </tbody>\n",
              "</table>\n",
              "<p>10 rows × 86 columns</p>\n",
              "</div>\n",
              "    <div class=\"colab-df-buttons\">\n",
              "\n",
              "  <div class=\"colab-df-container\">\n",
              "    <button class=\"colab-df-convert\" onclick=\"convertToInteractive('df-67dc0ecf-c0f3-4de5-9822-31d891fa2bb9')\"\n",
              "            title=\"Convert this dataframe to an interactive table.\"\n",
              "            style=\"display:none;\">\n",
              "\n",
              "  <svg xmlns=\"http://www.w3.org/2000/svg\" height=\"24px\" viewBox=\"0 -960 960 960\">\n",
              "    <path d=\"M120-120v-720h720v720H120Zm60-500h600v-160H180v160Zm220 220h160v-160H400v160Zm0 220h160v-160H400v160ZM180-400h160v-160H180v160Zm440 0h160v-160H620v160ZM180-180h160v-160H180v160Zm440 0h160v-160H620v160Z\"/>\n",
              "  </svg>\n",
              "    </button>\n",
              "\n",
              "  <style>\n",
              "    .colab-df-container {\n",
              "      display:flex;\n",
              "      gap: 12px;\n",
              "    }\n",
              "\n",
              "    .colab-df-convert {\n",
              "      background-color: #E8F0FE;\n",
              "      border: none;\n",
              "      border-radius: 50%;\n",
              "      cursor: pointer;\n",
              "      display: none;\n",
              "      fill: #1967D2;\n",
              "      height: 32px;\n",
              "      padding: 0 0 0 0;\n",
              "      width: 32px;\n",
              "    }\n",
              "\n",
              "    .colab-df-convert:hover {\n",
              "      background-color: #E2EBFA;\n",
              "      box-shadow: 0px 1px 2px rgba(60, 64, 67, 0.3), 0px 1px 3px 1px rgba(60, 64, 67, 0.15);\n",
              "      fill: #174EA6;\n",
              "    }\n",
              "\n",
              "    .colab-df-buttons div {\n",
              "      margin-bottom: 4px;\n",
              "    }\n",
              "\n",
              "    [theme=dark] .colab-df-convert {\n",
              "      background-color: #3B4455;\n",
              "      fill: #D2E3FC;\n",
              "    }\n",
              "\n",
              "    [theme=dark] .colab-df-convert:hover {\n",
              "      background-color: #434B5C;\n",
              "      box-shadow: 0px 1px 3px 1px rgba(0, 0, 0, 0.15);\n",
              "      filter: drop-shadow(0px 1px 2px rgba(0, 0, 0, 0.3));\n",
              "      fill: #FFFFFF;\n",
              "    }\n",
              "  </style>\n",
              "\n",
              "    <script>\n",
              "      const buttonEl =\n",
              "        document.querySelector('#df-67dc0ecf-c0f3-4de5-9822-31d891fa2bb9 button.colab-df-convert');\n",
              "      buttonEl.style.display =\n",
              "        google.colab.kernel.accessAllowed ? 'block' : 'none';\n",
              "\n",
              "      async function convertToInteractive(key) {\n",
              "        const element = document.querySelector('#df-67dc0ecf-c0f3-4de5-9822-31d891fa2bb9');\n",
              "        const dataTable =\n",
              "          await google.colab.kernel.invokeFunction('convertToInteractive',\n",
              "                                                    [key], {});\n",
              "        if (!dataTable) return;\n",
              "\n",
              "        const docLinkHtml = 'Like what you see? Visit the ' +\n",
              "          '<a target=\"_blank\" href=https://colab.research.google.com/notebooks/data_table.ipynb>data table notebook</a>'\n",
              "          + ' to learn more about interactive tables.';\n",
              "        element.innerHTML = '';\n",
              "        dataTable['output_type'] = 'display_data';\n",
              "        await google.colab.output.renderOutput(dataTable, element);\n",
              "        const docLink = document.createElement('div');\n",
              "        docLink.innerHTML = docLinkHtml;\n",
              "        element.appendChild(docLink);\n",
              "      }\n",
              "    </script>\n",
              "  </div>\n",
              "\n",
              "\n",
              "<div id=\"df-971a00e9-f65b-4fe2-8deb-4bc9ce089952\">\n",
              "  <button class=\"colab-df-quickchart\" onclick=\"quickchart('df-971a00e9-f65b-4fe2-8deb-4bc9ce089952')\"\n",
              "            title=\"Suggest charts\"\n",
              "            style=\"display:none;\">\n",
              "\n",
              "<svg xmlns=\"http://www.w3.org/2000/svg\" height=\"24px\"viewBox=\"0 0 24 24\"\n",
              "     width=\"24px\">\n",
              "    <g>\n",
              "        <path d=\"M19 3H5c-1.1 0-2 .9-2 2v14c0 1.1.9 2 2 2h14c1.1 0 2-.9 2-2V5c0-1.1-.9-2-2-2zM9 17H7v-7h2v7zm4 0h-2V7h2v10zm4 0h-2v-4h2v4z\"/>\n",
              "    </g>\n",
              "</svg>\n",
              "  </button>\n",
              "\n",
              "<style>\n",
              "  .colab-df-quickchart {\n",
              "      --bg-color: #E8F0FE;\n",
              "      --fill-color: #1967D2;\n",
              "      --hover-bg-color: #E2EBFA;\n",
              "      --hover-fill-color: #174EA6;\n",
              "      --disabled-fill-color: #AAA;\n",
              "      --disabled-bg-color: #DDD;\n",
              "  }\n",
              "\n",
              "  [theme=dark] .colab-df-quickchart {\n",
              "      --bg-color: #3B4455;\n",
              "      --fill-color: #D2E3FC;\n",
              "      --hover-bg-color: #434B5C;\n",
              "      --hover-fill-color: #FFFFFF;\n",
              "      --disabled-bg-color: #3B4455;\n",
              "      --disabled-fill-color: #666;\n",
              "  }\n",
              "\n",
              "  .colab-df-quickchart {\n",
              "    background-color: var(--bg-color);\n",
              "    border: none;\n",
              "    border-radius: 50%;\n",
              "    cursor: pointer;\n",
              "    display: none;\n",
              "    fill: var(--fill-color);\n",
              "    height: 32px;\n",
              "    padding: 0;\n",
              "    width: 32px;\n",
              "  }\n",
              "\n",
              "  .colab-df-quickchart:hover {\n",
              "    background-color: var(--hover-bg-color);\n",
              "    box-shadow: 0 1px 2px rgba(60, 64, 67, 0.3), 0 1px 3px 1px rgba(60, 64, 67, 0.15);\n",
              "    fill: var(--button-hover-fill-color);\n",
              "  }\n",
              "\n",
              "  .colab-df-quickchart-complete:disabled,\n",
              "  .colab-df-quickchart-complete:disabled:hover {\n",
              "    background-color: var(--disabled-bg-color);\n",
              "    fill: var(--disabled-fill-color);\n",
              "    box-shadow: none;\n",
              "  }\n",
              "\n",
              "  .colab-df-spinner {\n",
              "    border: 2px solid var(--fill-color);\n",
              "    border-color: transparent;\n",
              "    border-bottom-color: var(--fill-color);\n",
              "    animation:\n",
              "      spin 1s steps(1) infinite;\n",
              "  }\n",
              "\n",
              "  @keyframes spin {\n",
              "    0% {\n",
              "      border-color: transparent;\n",
              "      border-bottom-color: var(--fill-color);\n",
              "      border-left-color: var(--fill-color);\n",
              "    }\n",
              "    20% {\n",
              "      border-color: transparent;\n",
              "      border-left-color: var(--fill-color);\n",
              "      border-top-color: var(--fill-color);\n",
              "    }\n",
              "    30% {\n",
              "      border-color: transparent;\n",
              "      border-left-color: var(--fill-color);\n",
              "      border-top-color: var(--fill-color);\n",
              "      border-right-color: var(--fill-color);\n",
              "    }\n",
              "    40% {\n",
              "      border-color: transparent;\n",
              "      border-right-color: var(--fill-color);\n",
              "      border-top-color: var(--fill-color);\n",
              "    }\n",
              "    60% {\n",
              "      border-color: transparent;\n",
              "      border-right-color: var(--fill-color);\n",
              "    }\n",
              "    80% {\n",
              "      border-color: transparent;\n",
              "      border-right-color: var(--fill-color);\n",
              "      border-bottom-color: var(--fill-color);\n",
              "    }\n",
              "    90% {\n",
              "      border-color: transparent;\n",
              "      border-bottom-color: var(--fill-color);\n",
              "    }\n",
              "  }\n",
              "</style>\n",
              "\n",
              "  <script>\n",
              "    async function quickchart(key) {\n",
              "      const quickchartButtonEl =\n",
              "        document.querySelector('#' + key + ' button');\n",
              "      quickchartButtonEl.disabled = true;  // To prevent multiple clicks.\n",
              "      quickchartButtonEl.classList.add('colab-df-spinner');\n",
              "      try {\n",
              "        const charts = await google.colab.kernel.invokeFunction(\n",
              "            'suggestCharts', [key], {});\n",
              "      } catch (error) {\n",
              "        console.error('Error during call to suggestCharts:', error);\n",
              "      }\n",
              "      quickchartButtonEl.classList.remove('colab-df-spinner');\n",
              "      quickchartButtonEl.classList.add('colab-df-quickchart-complete');\n",
              "    }\n",
              "    (() => {\n",
              "      let quickchartButtonEl =\n",
              "        document.querySelector('#df-971a00e9-f65b-4fe2-8deb-4bc9ce089952 button');\n",
              "      quickchartButtonEl.style.display =\n",
              "        google.colab.kernel.accessAllowed ? 'block' : 'none';\n",
              "    })();\n",
              "  </script>\n",
              "</div>\n",
              "    </div>\n",
              "  </div>\n"
            ]
          },
          "metadata": {},
          "execution_count": 21
        }
      ]
    },
    {
      "cell_type": "code",
      "source": [
        "unnormal_flow_duration_df[\"Label\"].value_counts()"
      ],
      "metadata": {
        "colab": {
          "base_uri": "https://localhost:8080/"
        },
        "id": "3hp8YMAgs2ox",
        "outputId": "909ce54c-dd22-46a9-85e6-182677bd8238"
      },
      "execution_count": 28,
      "outputs": [
        {
          "output_type": "execute_result",
          "data": {
            "text/plain": [
              "Anomaly    205086\n",
              "Normal       2467\n",
              "Name: Label, dtype: int64"
            ]
          },
          "metadata": {},
          "execution_count": 28
        }
      ]
    },
    {
      "cell_type": "code",
      "source": [
        "count_Tot_Fwd_Pkts = data[\"Tot_Fwd_Pkts\"].value_counts(1)"
      ],
      "metadata": {
        "id": "sA5PpmhHrPgf"
      },
      "execution_count": 33,
      "outputs": []
    },
    {
      "cell_type": "code",
      "source": [
        "count_Tot_Fwd_Pkts"
      ],
      "metadata": {
        "colab": {
          "base_uri": "https://localhost:8080/"
        },
        "id": "1d0jxsXNx9p1",
        "outputId": "05b211b4-0748-4611-a320-b03bd2afaa27"
      },
      "execution_count": 38,
      "outputs": [
        {
          "output_type": "execute_result",
          "data": {
            "text/plain": [
              "1      0.369024\n",
              "0      0.337450\n",
              "2      0.161484\n",
              "3      0.055484\n",
              "4      0.019797\n",
              "         ...   \n",
              "102    0.000003\n",
              "78     0.000003\n",
              "131    0.000003\n",
              "186    0.000003\n",
              "98     0.000002\n",
              "Name: Tot_Fwd_Pkts, Length: 116, dtype: float64"
            ]
          },
          "metadata": {},
          "execution_count": 38
        }
      ]
    },
    {
      "cell_type": "code",
      "source": [
        "unnormal_flow_duration_df[\"Tot_Fwd_Pkts\"].value_counts()"
      ],
      "metadata": {
        "colab": {
          "base_uri": "https://localhost:8080/"
        },
        "id": "Chirfd5dwWm5",
        "outputId": "e2cf58b0-9fff-41e1-f4ce-b0ce54f905f4"
      },
      "execution_count": 40,
      "outputs": [
        {
          "output_type": "execute_result",
          "data": {
            "text/plain": [
              "1      97393\n",
              "0      47843\n",
              "2      18359\n",
              "3      12074\n",
              "4       6780\n",
              "       ...  \n",
              "85         2\n",
              "79         2\n",
              "103        2\n",
              "84         2\n",
              "88         2\n",
              "Name: Tot_Fwd_Pkts, Length: 91, dtype: int64"
            ]
          },
          "metadata": {},
          "execution_count": 40
        }
      ]
    },
    {
      "cell_type": "code",
      "source": [
        "c = 0\n",
        "for i in count_Tot_Fwd_Pkts :\n",
        "  if i < 0.1 :\n",
        "    c += 1\n",
        "print(c)"
      ],
      "metadata": {
        "colab": {
          "base_uri": "https://localhost:8080/"
        },
        "id": "OeoUFGGkxe2M",
        "outputId": "34eee829-4d37-452d-815b-8a692cea232e"
      },
      "execution_count": 39,
      "outputs": [
        {
          "output_type": "stream",
          "name": "stdout",
          "text": [
            "113\n"
          ]
        }
      ]
    },
    {
      "cell_type": "code",
      "source": [
        "data[\"Tot_Bwd_Pkts\"].value_counts()"
      ],
      "metadata": {
        "colab": {
          "base_uri": "https://localhost:8080/"
        },
        "id": "uzFcQ4ULrP9S",
        "outputId": "f732a6c6-be68-4951-ccaa-d3a40882d599"
      },
      "execution_count": 43,
      "outputs": [
        {
          "output_type": "execute_result",
          "data": {
            "text/plain": [
              "1      389871\n",
              "2      159381\n",
              "3       36720\n",
              "4        5880\n",
              "5        2394\n",
              "7         137\n",
              "8         130\n",
              "6         117\n",
              "9          33\n",
              "12         16\n",
              "11         15\n",
              "10         14\n",
              "13         10\n",
              "14          8\n",
              "19          8\n",
              "15          4\n",
              "18          4\n",
              "16          4\n",
              "17          4\n",
              "20          3\n",
              "21          3\n",
              "26          2\n",
              "43          2\n",
              "30          1\n",
              "44          1\n",
              "72          1\n",
              "25          1\n",
              "49          1\n",
              "335         1\n",
              "101         1\n",
              "85          1\n",
              "317         1\n",
              "68          1\n",
              "36          1\n",
              "24          1\n",
              "61          1\n",
              "34          1\n",
              "22          1\n",
              "32          1\n",
              "144         1\n",
              "107         1\n",
              "560         1\n",
              "Name: Tot_Bwd_Pkts, dtype: int64"
            ]
          },
          "metadata": {},
          "execution_count": 43
        }
      ]
    },
    {
      "cell_type": "code",
      "source": [
        "data[\"Tot_Fwd_Pkts\"].plot()"
      ],
      "metadata": {
        "colab": {
          "base_uri": "https://localhost:8080/",
          "height": 450
        },
        "id": "PDDK_Da_zVaK",
        "outputId": "e9cdf5fe-eda8-4596-a7ad-49e53f3b9301"
      },
      "execution_count": 48,
      "outputs": [
        {
          "output_type": "execute_result",
          "data": {
            "text/plain": [
              "<Axes: xlabel='Timestamp'>"
            ]
          },
          "metadata": {},
          "execution_count": 48
        },
        {
          "output_type": "display_data",
          "data": {
            "text/plain": [
              "<Figure size 640x480 with 1 Axes>"
            ],
            "image/png": "[encoded data removed]"
          },
          "metadata": {}
        }
      ]
    },
    {
      "cell_type": "code",
      "source": [
        "data[\"Tot_Bwd_Pkts\"].plot()"
      ],
      "metadata": {
        "colab": {
          "base_uri": "https://localhost:8080/",
          "height": 450
        },
        "id": "V0YtPAAly1-q",
        "outputId": "7908cf6c-9119-44f1-a20a-88b152ecdad3"
      },
      "execution_count": 44,
      "outputs": [
        {
          "output_type": "execute_result",
          "data": {
            "text/plain": [
              "<Axes: xlabel='Timestamp'>"
            ]
          },
          "metadata": {},
          "execution_count": 44
        },
        {
          "output_type": "display_data",
          "data": {
            "text/plain": [
              "<Figure size 640x480 with 1 Axes>"
            ],
            "image/png": "[encoded data removed]"
          },
          "metadata": {}
        }
      ]
    },
    {
      "cell_type": "code",
      "source": [
        "data[\"TotLen_Fwd_Pkts\"].plot()"
      ],
      "metadata": {
        "colab": {
          "base_uri": "https://localhost:8080/",
          "height": 450
        },
        "id": "r-kjZuQ1rQWJ",
        "outputId": "b85fef79-eda6-4188-c67b-0e95aa122810"
      },
      "execution_count": 46,
      "outputs": [
        {
          "output_type": "execute_result",
          "data": {
            "text/plain": [
              "<Axes: xlabel='Timestamp'>"
            ]
          },
          "metadata": {},
          "execution_count": 46
        },
        {
          "output_type": "display_data",
          "data": {
            "text/plain": [
              "<Figure size 640x480 with 1 Axes>"
            ],
            "image/png": "[encoded data removed]"
          },
          "metadata": {}
        }
      ]
    },
    {
      "cell_type": "code",
      "source": [
        "data[\"TotLen_Bwd_Pkts\"].plot()"
      ],
      "metadata": {
        "colab": {
          "base_uri": "https://localhost:8080/",
          "height": 451
        },
        "id": "9OpiVVuIrgMt",
        "outputId": "13673ba3-7fdf-4a6a-ab59-359f0a348891"
      },
      "execution_count": 47,
      "outputs": [
        {
          "output_type": "execute_result",
          "data": {
            "text/plain": [
              "<Axes: xlabel='Timestamp'>"
            ]
          },
          "metadata": {},
          "execution_count": 47
        },
        {
          "output_type": "display_data",
          "data": {
            "text/plain": [
              "<Figure size 640x480 with 1 Axes>"
            ],
            "image/png": "[encoded data removed]"
          },
          "metadata": {}
        }
      ]
    },
    {
      "cell_type": "code",
      "source": [],
      "metadata": {
        "id": "pTjSyKfpntMX"
      },
      "execution_count": 48,
      "outputs": []
    },
    {
      "cell_type": "code",
      "source": [
        "data['Timestamp'] = pd.to_datetime(data['Timestamp'])\n",
        "data.set_index('Timestamp', inplace=True)\n",
        "data['Accumulated_Flow'] = data['Tot_Fwd_Pkts'].cumsum()\n",
        "data['Accumulated_Flow'].plot(figsize=(10, 6), title='Accumulated Flow Over Time')\n",
        "plt.show()\n"
      ],
      "metadata": {
        "colab": {
          "base_uri": "https://localhost:8080/",
          "height": 537
        },
        "id": "x19ItUvkLje7",
        "outputId": "c3c5b80f-3820-4fc7-c665-8e0e9404f04c"
      },
      "execution_count": 7,
      "outputs": [
        {
          "output_type": "display_data",
          "data": {
            "text/plain": [
              "<Figure size 1000x600 with 1 Axes>"
            ],
            "image/png": "[encoded data removed]"
          },
          "metadata": {}
        }
      ]
    },
    {
      "cell_type": "code",
      "source": [
        "data['Accumulated_Flow'].describe()"
      ],
      "metadata": {
        "colab": {
          "base_uri": "https://localhost:8080/"
        },
        "id": "DUc5t9O9ouop",
        "outputId": "2cb07915-a566-45bf-bdd6-6f3dc0575aa0"
      },
      "execution_count": 51,
      "outputs": [
        {
          "output_type": "execute_result",
          "data": {
            "text/plain": [
              "count    5.947790e+05\n",
              "mean     5.240507e+05\n",
              "std      3.023679e+05\n",
              "min      1.000000e+00\n",
              "25%      2.620850e+05\n",
              "50%      5.232400e+05\n",
              "75%      7.855870e+05\n",
              "max      1.048541e+06\n",
              "Name: Accumulated_Flow, dtype: float64"
            ]
          },
          "metadata": {},
          "execution_count": 51
        }
      ]
    },
    {
      "cell_type": "markdown",
      "source": [
        "import pandas as pd\n",
        "\n",
        "data['Timestamp'] = pd.to_datetime(data['Timestamp'])\n",
        "\n",
        "print(data['Timestamp'].dtype)\n"
      ],
      "metadata": {
        "id": "WxZCa2bkzsHu"
      }
    },
    {
      "cell_type": "markdown",
      "source": [
        "data.info()"
      ],
      "metadata": {
        "id": "8DnwU1waOA7z"
      }
    },
    {
      "cell_type": "code",
      "source": [
        "from sklearn.preprocessing import LabelEncoder\n",
        "\n",
        "categorical_columns = ['Flow_ID', 'Src_IP', 'Dst_IP','Cat' , 'Sub_Cat']\n",
        "\n",
        "label_encoder = LabelEncoder()\n",
        "\n",
        "for column in categorical_columns:\n",
        "    data[column] = label_encoder.fit_transform(data[column])"
      ],
      "metadata": {
        "id": "mF7mkx2VN458"
      },
      "execution_count": 5,
      "outputs": []
    },
    {
      "cell_type": "code",
      "source": [
        "data.info()"
      ],
      "metadata": {
        "colab": {
          "base_uri": "https://localhost:8080/"
        },
        "id": "isqNEanNOxe_",
        "outputId": "d4717f31-ce1a-4265-f9ed-73bfeb50459f"
      },
      "execution_count": 4,
      "outputs": [
        {
          "output_type": "stream",
          "name": "stdout",
          "text": [
            "<class 'pandas.core.frame.DataFrame'>\n",
            "RangeIndex: 625783 entries, 0 to 625782\n",
            "Data columns (total 86 columns):\n",
            " #   Column             Non-Null Count   Dtype  \n",
            "---  ------             --------------   -----  \n",
            " 0   Flow_ID            625783 non-null  int64  \n",
            " 1   Src_IP             625783 non-null  int64  \n",
            " 2   Src_Port           625783 non-null  int64  \n",
            " 3   Dst_IP             625783 non-null  int64  \n",
            " 4   Dst_Port           625783 non-null  int64  \n",
            " 5   Protocol           625783 non-null  int64  \n",
            " 6   Timestamp          625783 non-null  object \n",
            " 7   Flow_Duration      625783 non-null  int64  \n",
            " 8   Tot_Fwd_Pkts       625783 non-null  int64  \n",
            " 9   Tot_Bwd_Pkts       625783 non-null  int64  \n",
            " 10  TotLen_Fwd_Pkts    625783 non-null  float64\n",
            " 11  TotLen_Bwd_Pkts    625783 non-null  float64\n",
            " 12  Fwd_Pkt_Len_Max    625783 non-null  float64\n",
            " 13  Fwd_Pkt_Len_Min    625783 non-null  float64\n",
            " 14  Fwd_Pkt_Len_Mean   625783 non-null  float64\n",
            " 15  Fwd_Pkt_Len_Std    625783 non-null  float64\n",
            " 16  Bwd_Pkt_Len_Max    625783 non-null  float64\n",
            " 17  Bwd_Pkt_Len_Min    625783 non-null  float64\n",
            " 18  Bwd_Pkt_Len_Mean   625783 non-null  float64\n",
            " 19  Bwd_Pkt_Len_Std    625783 non-null  float64\n",
            " 20  Flow_Byts/s        625783 non-null  float64\n",
            " 21  Flow_Pkts/s        625783 non-null  float64\n",
            " 22  Flow_IAT_Mean      625783 non-null  float64\n",
            " 23  Flow_IAT_Std       625783 non-null  float64\n",
            " 24  Flow_IAT_Max       625783 non-null  float64\n",
            " 25  Flow_IAT_Min       625783 non-null  float64\n",
            " 26  Fwd_IAT_Tot        625783 non-null  float64\n",
            " 27  Fwd_IAT_Mean       625783 non-null  float64\n",
            " 28  Fwd_IAT_Std        625783 non-null  float64\n",
            " 29  Fwd_IAT_Max        625783 non-null  float64\n",
            " 30  Fwd_IAT_Min        625783 non-null  float64\n",
            " 31  Bwd_IAT_Tot        625783 non-null  float64\n",
            " 32  Bwd_IAT_Mean       625783 non-null  float64\n",
            " 33  Bwd_IAT_Std        625783 non-null  float64\n",
            " 34  Bwd_IAT_Max        625783 non-null  float64\n",
            " 35  Bwd_IAT_Min        625783 non-null  float64\n",
            " 36  Fwd_PSH_Flags      625783 non-null  int64  \n",
            " 37  Bwd_PSH_Flags      625783 non-null  int64  \n",
            " 38  Fwd_URG_Flags      625783 non-null  int64  \n",
            " 39  Bwd_URG_Flags      625783 non-null  int64  \n",
            " 40  Fwd_Header_Len     625783 non-null  int64  \n",
            " 41  Bwd_Header_Len     625783 non-null  int64  \n",
            " 42  Fwd_Pkts/s         625783 non-null  float64\n",
            " 43  Bwd_Pkts/s         625783 non-null  float64\n",
            " 44  Pkt_Len_Min        625783 non-null  float64\n",
            " 45  Pkt_Len_Max        625783 non-null  float64\n",
            " 46  Pkt_Len_Mean       625783 non-null  float64\n",
            " 47  Pkt_Len_Std        625783 non-null  float64\n",
            " 48  Pkt_Len_Var        625783 non-null  float64\n",
            " 49  FIN_Flag_Cnt       625783 non-null  int64  \n",
            " 50  SYN_Flag_Cnt       625783 non-null  int64  \n",
            " 51  RST_Flag_Cnt       625783 non-null  int64  \n",
            " 52  PSH_Flag_Cnt       625783 non-null  int64  \n",
            " 53  ACK_Flag_Cnt       625783 non-null  int64  \n",
            " 54  URG_Flag_Cnt       625783 non-null  int64  \n",
            " 55  CWE_Flag_Count     625783 non-null  int64  \n",
            " 56  ECE_Flag_Cnt       625783 non-null  int64  \n",
            " 57  Down/Up_Ratio      625783 non-null  float64\n",
            " 58  Pkt_Size_Avg       625783 non-null  float64\n",
            " 59  Fwd_Seg_Size_Avg   625783 non-null  float64\n",
            " 60  Bwd_Seg_Size_Avg   625783 non-null  float64\n",
            " 61  Fwd_Byts/b_Avg     625783 non-null  int64  \n",
            " 62  Fwd_Pkts/b_Avg     625783 non-null  int64  \n",
            " 63  Fwd_Blk_Rate_Avg   625783 non-null  int64  \n",
            " 64  Bwd_Byts/b_Avg     625783 non-null  int64  \n",
            " 65  Bwd_Pkts/b_Avg     625783 non-null  int64  \n",
            " 66  Bwd_Blk_Rate_Avg   625783 non-null  int64  \n",
            " 67  Subflow_Fwd_Pkts   625783 non-null  int64  \n",
            " 68  Subflow_Fwd_Byts   625783 non-null  int64  \n",
            " 69  Subflow_Bwd_Pkts   625783 non-null  int64  \n",
            " 70  Subflow_Bwd_Byts   625783 non-null  int64  \n",
            " 71  Init_Fwd_Win_Byts  625783 non-null  int64  \n",
            " 72  Init_Bwd_Win_Byts  625783 non-null  int64  \n",
            " 73  Fwd_Act_Data_Pkts  625783 non-null  int64  \n",
            " 74  Fwd_Seg_Size_Min   625783 non-null  int64  \n",
            " 75  Active_Mean        625783 non-null  float64\n",
            " 76  Active_Std         625783 non-null  float64\n",
            " 77  Active_Max         625783 non-null  float64\n",
            " 78  Active_Min         625783 non-null  float64\n",
            " 79  Idle_Mean          625783 non-null  float64\n",
            " 80  Idle_Std           625783 non-null  float64\n",
            " 81  Idle_Max           625783 non-null  float64\n",
            " 82  Idle_Min           625783 non-null  float64\n",
            " 83  Label              625783 non-null  object \n",
            " 84  Cat                625783 non-null  int64  \n",
            " 85  Sub_Cat            625783 non-null  int64  \n",
            "dtypes: float64(45), int64(39), object(2)\n",
            "memory usage: 410.6+ MB\n"
          ]
        }
      ]
    },
    {
      "cell_type": "code",
      "source": [
        "data.head(10)"
      ],
      "metadata": {
        "colab": {
          "base_uri": "https://localhost:8080/",
          "height": 586
        },
        "id": "ZH3jAZRROz2R",
        "outputId": "f80248f6-3b8d-494f-b1b5-107e4bc8092b"
      },
      "execution_count": 67,
      "outputs": [
        {
          "output_type": "execute_result",
          "data": {
            "text/plain": [
              "   Flow_ID  Src_IP  Src_Port  Dst_IP  Dst_Port  Protocol           Timestamp  \\\n",
              "0    12446   25883     10000     203     10101        17 2019-07-25 03:25:53   \n",
              "1    22760   34617      2179     200       554         6 2019-05-26 22:11:06   \n",
              "2    12691   25886     52727     200      9020         6 2019-11-07 01:24:48   \n",
              "3    12704   25886     52964     200      9020         6 2019-04-09 03:58:17   \n",
              "4      611   25881     36763     317      1900        17 2019-10-09 01:41:18   \n",
              "5    47142   25889     41980       8       443         6 2019-10-09 01:39:13   \n",
              "6    62449   25889     60175     233      8899        17 2019-07-25 03:21:01   \n",
              "7    64010   25889     41467     464       443         6 2019-11-07 01:52:37   \n",
              "8    13682   25883     60132     233      8899        17 2019-07-25 03:21:13   \n",
              "9     3320    5755      7953     200       554         6 2019-05-26 22:20:36   \n",
              "\n",
              "   Flow_Duration  Tot_Fwd_Pkts  Tot_Bwd_Pkts  ...  Active_Std  Active_Max  \\\n",
              "0             75             1             1  ...         0.0         0.0   \n",
              "1           5310             1             2  ...         0.0         0.0   \n",
              "2            141             0             3  ...         0.0         0.0   \n",
              "3            151             0             2  ...         0.0         0.0   \n",
              "4            153             2             1  ...         0.0         0.0   \n",
              "5            157             2             1  ...         0.0         0.0   \n",
              "6            139            20             1  ...         0.0         0.0   \n",
              "7            112             0             2  ...         0.0         0.0   \n",
              "8             86             1             1  ...         0.0         0.0   \n",
              "9           6799             0             2  ...         0.0         0.0   \n",
              "\n",
              "   Active_Min  Idle_Mean     Idle_Std  Idle_Max  Idle_Min    Label  Cat  \\\n",
              "0         0.0      75.00     0.000000      75.0      75.0  Anomaly    2   \n",
              "1         0.0    2655.00  2261.327486    4254.0    1056.0  Anomaly    0   \n",
              "2         0.0      70.50     0.707107      71.0      70.0  Anomaly    4   \n",
              "3         0.0     151.00     0.000000     151.0     151.0  Anomaly    2   \n",
              "4         0.0      76.50     0.707107      77.0      76.0  Anomaly    2   \n",
              "5         0.0      78.50     6.363961      83.0      74.0  Anomaly    2   \n",
              "6         0.0       6.95     1.669384      10.0       4.0  Anomaly    2   \n",
              "7         0.0     112.00     0.000000     112.0     112.0  Anomaly    4   \n",
              "8         0.0      86.00     0.000000      86.0      86.0  Anomaly    2   \n",
              "9         0.0    6799.00     0.000000    6799.0    6799.0  Anomaly    0   \n",
              "\n",
              "   Sub_Cat  \n",
              "0        2  \n",
              "1        0  \n",
              "2        8  \n",
              "3        4  \n",
              "4        4  \n",
              "5        4  \n",
              "6        5  \n",
              "7        8  \n",
              "8        5  \n",
              "9        0  \n",
              "\n",
              "[10 rows x 86 columns]"
            ],
            "text/html": [
              "\n",
              "  <div id=\"df-45b6bb02-447e-451e-8c55-2b574015ded1\" class=\"colab-df-container\">\n",
              "    <div>\n",
              "<style scoped>\n",
              "    .dataframe tbody tr th:only-of-type {\n",
              "        vertical-align: middle;\n",
              "    }\n",
              "\n",
              "    .dataframe tbody tr th {\n",
              "        vertical-align: top;\n",
              "    }\n",
              "\n",
              "    .dataframe thead th {\n",
              "        text-align: right;\n",
              "    }\n",
              "</style>\n",
              "<table border=\"1\" class=\"dataframe\">\n",
              "  <thead>\n",
              "    <tr style=\"text-align: right;\">\n",
              "      <th></th>\n",
              "      <th>Flow_ID</th>\n",
              "      <th>Src_IP</th>\n",
              "      <th>Src_Port</th>\n",
              "      <th>Dst_IP</th>\n",
              "      <th>Dst_Port</th>\n",
              "      <th>Protocol</th>\n",
              "      <th>Timestamp</th>\n",
              "      <th>Flow_Duration</th>\n",
              "      <th>Tot_Fwd_Pkts</th>\n",
              "      <th>Tot_Bwd_Pkts</th>\n",
              "      <th>...</th>\n",
              "      <th>Active_Std</th>\n",
              "      <th>Active_Max</th>\n",
              "      <th>Active_Min</th>\n",
              "      <th>Idle_Mean</th>\n",
              "      <th>Idle_Std</th>\n",
              "      <th>Idle_Max</th>\n",
              "      <th>Idle_Min</th>\n",
              "      <th>Label</th>\n",
              "      <th>Cat</th>\n",
              "      <th>Sub_Cat</th>\n",
              "    </tr>\n",
              "  </thead>\n",
              "  <tbody>\n",
              "    <tr>\n",
              "      <th>0</th>\n",
              "      <td>12446</td>\n",
              "      <td>25883</td>\n",
              "      <td>10000</td>\n",
              "      <td>203</td>\n",
              "      <td>10101</td>\n",
              "      <td>17</td>\n",
              "      <td>2019-07-25 03:25:53</td>\n",
              "      <td>75</td>\n",
              "      <td>1</td>\n",
              "      <td>1</td>\n",
              "      <td>...</td>\n",
              "      <td>0.0</td>\n",
              "      <td>0.0</td>\n",
              "      <td>0.0</td>\n",
              "      <td>75.00</td>\n",
              "      <td>0.000000</td>\n",
              "      <td>75.0</td>\n",
              "      <td>75.0</td>\n",
              "      <td>Anomaly</td>\n",
              "      <td>2</td>\n",
              "      <td>2</td>\n",
              "    </tr>\n",
              "    <tr>\n",
              "      <th>1</th>\n",
              "      <td>22760</td>\n",
              "      <td>34617</td>\n",
              "      <td>2179</td>\n",
              "      <td>200</td>\n",
              "      <td>554</td>\n",
              "      <td>6</td>\n",
              "      <td>2019-05-26 22:11:06</td>\n",
              "      <td>5310</td>\n",
              "      <td>1</td>\n",
              "      <td>2</td>\n",
              "      <td>...</td>\n",
              "      <td>0.0</td>\n",
              "      <td>0.0</td>\n",
              "      <td>0.0</td>\n",
              "      <td>2655.00</td>\n",
              "      <td>2261.327486</td>\n",
              "      <td>4254.0</td>\n",
              "      <td>1056.0</td>\n",
              "      <td>Anomaly</td>\n",
              "      <td>0</td>\n",
              "      <td>0</td>\n",
              "    </tr>\n",
              "    <tr>\n",
              "      <th>2</th>\n",
              "      <td>12691</td>\n",
              "      <td>25886</td>\n",
              "      <td>52727</td>\n",
              "      <td>200</td>\n",
              "      <td>9020</td>\n",
              "      <td>6</td>\n",
              "      <td>2019-11-07 01:24:48</td>\n",
              "      <td>141</td>\n",
              "      <td>0</td>\n",
              "      <td>3</td>\n",
              "      <td>...</td>\n",
              "      <td>0.0</td>\n",
              "      <td>0.0</td>\n",
              "      <td>0.0</td>\n",
              "      <td>70.50</td>\n",
              "      <td>0.707107</td>\n",
              "      <td>71.0</td>\n",
              "      <td>70.0</td>\n",
              "      <td>Anomaly</td>\n",
              "      <td>4</td>\n",
              "      <td>8</td>\n",
              "    </tr>\n",
              "    <tr>\n",
              "      <th>3</th>\n",
              "      <td>12704</td>\n",
              "      <td>25886</td>\n",
              "      <td>52964</td>\n",
              "      <td>200</td>\n",
              "      <td>9020</td>\n",
              "      <td>6</td>\n",
              "      <td>2019-04-09 03:58:17</td>\n",
              "      <td>151</td>\n",
              "      <td>0</td>\n",
              "      <td>2</td>\n",
              "      <td>...</td>\n",
              "      <td>0.0</td>\n",
              "      <td>0.0</td>\n",
              "      <td>0.0</td>\n",
              "      <td>151.00</td>\n",
              "      <td>0.000000</td>\n",
              "      <td>151.0</td>\n",
              "      <td>151.0</td>\n",
              "      <td>Anomaly</td>\n",
              "      <td>2</td>\n",
              "      <td>4</td>\n",
              "    </tr>\n",
              "    <tr>\n",
              "      <th>4</th>\n",
              "      <td>611</td>\n",
              "      <td>25881</td>\n",
              "      <td>36763</td>\n",
              "      <td>317</td>\n",
              "      <td>1900</td>\n",
              "      <td>17</td>\n",
              "      <td>2019-10-09 01:41:18</td>\n",
              "      <td>153</td>\n",
              "      <td>2</td>\n",
              "      <td>1</td>\n",
              "      <td>...</td>\n",
              "      <td>0.0</td>\n",
              "      <td>0.0</td>\n",
              "      <td>0.0</td>\n",
              "      <td>76.50</td>\n",
              "      <td>0.707107</td>\n",
              "      <td>77.0</td>\n",
              "      <td>76.0</td>\n",
              "      <td>Anomaly</td>\n",
              "      <td>2</td>\n",
              "      <td>4</td>\n",
              "    </tr>\n",
              "    <tr>\n",
              "      <th>5</th>\n",
              "      <td>47142</td>\n",
              "      <td>25889</td>\n",
              "      <td>41980</td>\n",
              "      <td>8</td>\n",
              "      <td>443</td>\n",
              "      <td>6</td>\n",
              "      <td>2019-10-09 01:39:13</td>\n",
              "      <td>157</td>\n",
              "      <td>2</td>\n",
              "      <td>1</td>\n",
              "      <td>...</td>\n",
              "      <td>0.0</td>\n",
              "      <td>0.0</td>\n",
              "      <td>0.0</td>\n",
              "      <td>78.50</td>\n",
              "      <td>6.363961</td>\n",
              "      <td>83.0</td>\n",
              "      <td>74.0</td>\n",
              "      <td>Anomaly</td>\n",
              "      <td>2</td>\n",
              "      <td>4</td>\n",
              "    </tr>\n",
              "    <tr>\n",
              "      <th>6</th>\n",
              "      <td>62449</td>\n",
              "      <td>25889</td>\n",
              "      <td>60175</td>\n",
              "      <td>233</td>\n",
              "      <td>8899</td>\n",
              "      <td>17</td>\n",
              "      <td>2019-07-25 03:21:01</td>\n",
              "      <td>139</td>\n",
              "      <td>20</td>\n",
              "      <td>1</td>\n",
              "      <td>...</td>\n",
              "      <td>0.0</td>\n",
              "      <td>0.0</td>\n",
              "      <td>0.0</td>\n",
              "      <td>6.95</td>\n",
              "      <td>1.669384</td>\n",
              "      <td>10.0</td>\n",
              "      <td>4.0</td>\n",
              "      <td>Anomaly</td>\n",
              "      <td>2</td>\n",
              "      <td>5</td>\n",
              "    </tr>\n",
              "    <tr>\n",
              "      <th>7</th>\n",
              "      <td>64010</td>\n",
              "      <td>25889</td>\n",
              "      <td>41467</td>\n",
              "      <td>464</td>\n",
              "      <td>443</td>\n",
              "      <td>6</td>\n",
              "      <td>2019-11-07 01:52:37</td>\n",
              "      <td>112</td>\n",
              "      <td>0</td>\n",
              "      <td>2</td>\n",
              "      <td>...</td>\n",
              "      <td>0.0</td>\n",
              "      <td>0.0</td>\n",
              "      <td>0.0</td>\n",
              "      <td>112.00</td>\n",
              "      <td>0.000000</td>\n",
              "      <td>112.0</td>\n",
              "      <td>112.0</td>\n",
              "      <td>Anomaly</td>\n",
              "      <td>4</td>\n",
              "      <td>8</td>\n",
              "    </tr>\n",
              "    <tr>\n",
              "      <th>8</th>\n",
              "      <td>13682</td>\n",
              "      <td>25883</td>\n",
              "      <td>60132</td>\n",
              "      <td>233</td>\n",
              "      <td>8899</td>\n",
              "      <td>17</td>\n",
              "      <td>2019-07-25 03:21:13</td>\n",
              "      <td>86</td>\n",
              "      <td>1</td>\n",
              "      <td>1</td>\n",
              "      <td>...</td>\n",
              "      <td>0.0</td>\n",
              "      <td>0.0</td>\n",
              "      <td>0.0</td>\n",
              "      <td>86.00</td>\n",
              "      <td>0.000000</td>\n",
              "      <td>86.0</td>\n",
              "      <td>86.0</td>\n",
              "      <td>Anomaly</td>\n",
              "      <td>2</td>\n",
              "      <td>5</td>\n",
              "    </tr>\n",
              "    <tr>\n",
              "      <th>9</th>\n",
              "      <td>3320</td>\n",
              "      <td>5755</td>\n",
              "      <td>7953</td>\n",
              "      <td>200</td>\n",
              "      <td>554</td>\n",
              "      <td>6</td>\n",
              "      <td>2019-05-26 22:20:36</td>\n",
              "      <td>6799</td>\n",
              "      <td>0</td>\n",
              "      <td>2</td>\n",
              "      <td>...</td>\n",
              "      <td>0.0</td>\n",
              "      <td>0.0</td>\n",
              "      <td>0.0</td>\n",
              "      <td>6799.00</td>\n",
              "      <td>0.000000</td>\n",
              "      <td>6799.0</td>\n",
              "      <td>6799.0</td>\n",
              "      <td>Anomaly</td>\n",
              "      <td>0</td>\n",
              "      <td>0</td>\n",
              "    </tr>\n",
              "  </tbody>\n",
              "</table>\n",
              "<p>10 rows × 86 columns</p>\n",
              "</div>\n",
              "    <div class=\"colab-df-buttons\">\n",
              "\n",
              "  <div class=\"colab-df-container\">\n",
              "    <button class=\"colab-df-convert\" onclick=\"convertToInteractive('df-45b6bb02-447e-451e-8c55-2b574015ded1')\"\n",
              "            title=\"Convert this dataframe to an interactive table.\"\n",
              "            style=\"display:none;\">\n",
              "\n",
              "  <svg xmlns=\"http://www.w3.org/2000/svg\" height=\"24px\" viewBox=\"0 -960 960 960\">\n",
              "    <path d=\"M120-120v-720h720v720H120Zm60-500h600v-160H180v160Zm220 220h160v-160H400v160Zm0 220h160v-160H400v160ZM180-400h160v-160H180v160Zm440 0h160v-160H620v160ZM180-180h160v-160H180v160Zm440 0h160v-160H620v160Z\"/>\n",
              "  </svg>\n",
              "    </button>\n",
              "\n",
              "  <style>\n",
              "    .colab-df-container {\n",
              "      display:flex;\n",
              "      gap: 12px;\n",
              "    }\n",
              "\n",
              "    .colab-df-convert {\n",
              "      background-color: #E8F0FE;\n",
              "      border: none;\n",
              "      border-radius: 50%;\n",
              "      cursor: pointer;\n",
              "      display: none;\n",
              "      fill: #1967D2;\n",
              "      height: 32px;\n",
              "      padding: 0 0 0 0;\n",
              "      width: 32px;\n",
              "    }\n",
              "\n",
              "    .colab-df-convert:hover {\n",
              "      background-color: #E2EBFA;\n",
              "      box-shadow: 0px 1px 2px rgba(60, 64, 67, 0.3), 0px 1px 3px 1px rgba(60, 64, 67, 0.15);\n",
              "      fill: #174EA6;\n",
              "    }\n",
              "\n",
              "    .colab-df-buttons div {\n",
              "      margin-bottom: 4px;\n",
              "    }\n",
              "\n",
              "    [theme=dark] .colab-df-convert {\n",
              "      background-color: #3B4455;\n",
              "      fill: #D2E3FC;\n",
              "    }\n",
              "\n",
              "    [theme=dark] .colab-df-convert:hover {\n",
              "      background-color: #434B5C;\n",
              "      box-shadow: 0px 1px 3px 1px rgba(0, 0, 0, 0.15);\n",
              "      filter: drop-shadow(0px 1px 2px rgba(0, 0, 0, 0.3));\n",
              "      fill: #FFFFFF;\n",
              "    }\n",
              "  </style>\n",
              "\n",
              "    <script>\n",
              "      const buttonEl =\n",
              "        document.querySelector('#df-45b6bb02-447e-451e-8c55-2b574015ded1 button.colab-df-convert');\n",
              "      buttonEl.style.display =\n",
              "        google.colab.kernel.accessAllowed ? 'block' : 'none';\n",
              "\n",
              "      async function convertToInteractive(key) {\n",
              "        const element = document.querySelector('#df-45b6bb02-447e-451e-8c55-2b574015ded1');\n",
              "        const dataTable =\n",
              "          await google.colab.kernel.invokeFunction('convertToInteractive',\n",
              "                                                    [key], {});\n",
              "        if (!dataTable) return;\n",
              "\n",
              "        const docLinkHtml = 'Like what you see? Visit the ' +\n",
              "          '<a target=\"_blank\" href=https://colab.research.google.com/notebooks/data_table.ipynb>data table notebook</a>'\n",
              "          + ' to learn more about interactive tables.';\n",
              "        element.innerHTML = '';\n",
              "        dataTable['output_type'] = 'display_data';\n",
              "        await google.colab.output.renderOutput(dataTable, element);\n",
              "        const docLink = document.createElement('div');\n",
              "        docLink.innerHTML = docLinkHtml;\n",
              "        element.appendChild(docLink);\n",
              "      }\n",
              "    </script>\n",
              "  </div>\n",
              "\n",
              "\n",
              "<div id=\"df-15ba610a-967b-447b-9e76-53ad1e5ae039\">\n",
              "  <button class=\"colab-df-quickchart\" onclick=\"quickchart('df-15ba610a-967b-447b-9e76-53ad1e5ae039')\"\n",
              "            title=\"Suggest charts\"\n",
              "            style=\"display:none;\">\n",
              "\n",
              "<svg xmlns=\"http://www.w3.org/2000/svg\" height=\"24px\"viewBox=\"0 0 24 24\"\n",
              "     width=\"24px\">\n",
              "    <g>\n",
              "        <path d=\"M19 3H5c-1.1 0-2 .9-2 2v14c0 1.1.9 2 2 2h14c1.1 0 2-.9 2-2V5c0-1.1-.9-2-2-2zM9 17H7v-7h2v7zm4 0h-2V7h2v10zm4 0h-2v-4h2v4z\"/>\n",
              "    </g>\n",
              "</svg>\n",
              "  </button>\n",
              "\n",
              "<style>\n",
              "  .colab-df-quickchart {\n",
              "      --bg-color: #E8F0FE;\n",
              "      --fill-color: #1967D2;\n",
              "      --hover-bg-color: #E2EBFA;\n",
              "      --hover-fill-color: #174EA6;\n",
              "      --disabled-fill-color: #AAA;\n",
              "      --disabled-bg-color: #DDD;\n",
              "  }\n",
              "\n",
              "  [theme=dark] .colab-df-quickchart {\n",
              "      --bg-color: #3B4455;\n",
              "      --fill-color: #D2E3FC;\n",
              "      --hover-bg-color: #434B5C;\n",
              "      --hover-fill-color: #FFFFFF;\n",
              "      --disabled-bg-color: #3B4455;\n",
              "      --disabled-fill-color: #666;\n",
              "  }\n",
              "\n",
              "  .colab-df-quickchart {\n",
              "    background-color: var(--bg-color);\n",
              "    border: none;\n",
              "    border-radius: 50%;\n",
              "    cursor: pointer;\n",
              "    display: none;\n",
              "    fill: var(--fill-color);\n",
              "    height: 32px;\n",
              "    padding: 0;\n",
              "    width: 32px;\n",
              "  }\n",
              "\n",
              "  .colab-df-quickchart:hover {\n",
              "    background-color: var(--hover-bg-color);\n",
              "    box-shadow: 0 1px 2px rgba(60, 64, 67, 0.3), 0 1px 3px 1px rgba(60, 64, 67, 0.15);\n",
              "    fill: var(--button-hover-fill-color);\n",
              "  }\n",
              "\n",
              "  .colab-df-quickchart-complete:disabled,\n",
              "  .colab-df-quickchart-complete:disabled:hover {\n",
              "    background-color: var(--disabled-bg-color);\n",
              "    fill: var(--disabled-fill-color);\n",
              "    box-shadow: none;\n",
              "  }\n",
              "\n",
              "  .colab-df-spinner {\n",
              "    border: 2px solid var(--fill-color);\n",
              "    border-color: transparent;\n",
              "    border-bottom-color: var(--fill-color);\n",
              "    animation:\n",
              "      spin 1s steps(1) infinite;\n",
              "  }\n",
              "\n",
              "  @keyframes spin {\n",
              "    0% {\n",
              "      border-color: transparent;\n",
              "      border-bottom-color: var(--fill-color);\n",
              "      border-left-color: var(--fill-color);\n",
              "    }\n",
              "    20% {\n",
              "      border-color: transparent;\n",
              "      border-left-color: var(--fill-color);\n",
              "      border-top-color: var(--fill-color);\n",
              "    }\n",
              "    30% {\n",
              "      border-color: transparent;\n",
              "      border-left-color: var(--fill-color);\n",
              "      border-top-color: var(--fill-color);\n",
              "      border-right-color: var(--fill-color);\n",
              "    }\n",
              "    40% {\n",
              "      border-color: transparent;\n",
              "      border-right-color: var(--fill-color);\n",
              "      border-top-color: var(--fill-color);\n",
              "    }\n",
              "    60% {\n",
              "      border-color: transparent;\n",
              "      border-right-color: var(--fill-color);\n",
              "    }\n",
              "    80% {\n",
              "      border-color: transparent;\n",
              "      border-right-color: var(--fill-color);\n",
              "      border-bottom-color: var(--fill-color);\n",
              "    }\n",
              "    90% {\n",
              "      border-color: transparent;\n",
              "      border-bottom-color: var(--fill-color);\n",
              "    }\n",
              "  }\n",
              "</style>\n",
              "\n",
              "  <script>\n",
              "    async function quickchart(key) {\n",
              "      const quickchartButtonEl =\n",
              "        document.querySelector('#' + key + ' button');\n",
              "      quickchartButtonEl.disabled = true;  // To prevent multiple clicks.\n",
              "      quickchartButtonEl.classList.add('colab-df-spinner');\n",
              "      try {\n",
              "        const charts = await google.colab.kernel.invokeFunction(\n",
              "            'suggestCharts', [key], {});\n",
              "      } catch (error) {\n",
              "        console.error('Error during call to suggestCharts:', error);\n",
              "      }\n",
              "      quickchartButtonEl.classList.remove('colab-df-spinner');\n",
              "      quickchartButtonEl.classList.add('colab-df-quickchart-complete');\n",
              "    }\n",
              "    (() => {\n",
              "      let quickchartButtonEl =\n",
              "        document.querySelector('#df-15ba610a-967b-447b-9e76-53ad1e5ae039 button');\n",
              "      quickchartButtonEl.style.display =\n",
              "        google.colab.kernel.accessAllowed ? 'block' : 'none';\n",
              "    })();\n",
              "  </script>\n",
              "</div>\n",
              "    </div>\n",
              "  </div>\n"
            ]
          },
          "metadata": {},
          "execution_count": 67
        }
      ]
    },
    {
      "cell_type": "code",
      "source": [
        "data[\"Cat\"].value_counts()"
      ],
      "metadata": {
        "colab": {
          "base_uri": "https://localhost:8080/"
        },
        "id": "cRcW7wShO6nC",
        "outputId": "1a09741a-b6aa-4704-e249-e1784b9acb4c"
      },
      "execution_count": 5,
      "outputs": [
        {
          "output_type": "execute_result",
          "data": {
            "text/plain": [
              "2    415677\n",
              "4     75265\n",
              "0     59391\n",
              "3     40073\n",
              "1     35377\n",
              "Name: Cat, dtype: int64"
            ]
          },
          "metadata": {},
          "execution_count": 5
        }
      ]
    },
    {
      "cell_type": "code",
      "source": [
        "data[\"Sub_Cat\"].value_counts()"
      ],
      "metadata": {
        "colab": {
          "base_uri": "https://localhost:8080/"
        },
        "id": "Err-J2p0finc",
        "outputId": "d2eaece4-3b30-4fdd-b979-00710b17b5a5"
      },
      "execution_count": 54,
      "outputs": [
        {
          "output_type": "execute_result",
          "data": {
            "text/plain": [
              "5    183554\n",
              "4    121181\n",
              "0     59391\n",
              "3     55818\n",
              "2     55124\n",
              "8     53073\n",
              "6     40073\n",
              "1     35377\n",
              "7     22192\n",
              "Name: Sub_Cat, dtype: int64"
            ]
          },
          "metadata": {},
          "execution_count": 54
        }
      ]
    },
    {
      "cell_type": "code",
      "source": [
        "# Convert 'Timestamp' to datetime if not already\n",
        "data['Timestamp'] = pd.to_datetime(data['Timestamp'])\n",
        "\n",
        "data['Day'] = data['Timestamp'].dt.day\n",
        "data['Month'] = data['Timestamp'].dt.month\n",
        "data['Year'] = data['Timestamp'].dt.year\n",
        "data['Hour'] = data['Timestamp'].dt.hour\n",
        "data['Minute'] = data['Timestamp'].dt.minute\n",
        "data['Second'] = data['Timestamp'].dt.second"
      ],
      "metadata": {
        "id": "pRjhoAXxQau5"
      },
      "execution_count": 6,
      "outputs": []
    },
    {
      "cell_type": "code",
      "source": [
        "data.info()"
      ],
      "metadata": {
        "colab": {
          "base_uri": "https://localhost:8080/"
        },
        "id": "JxOO1HpqPyU5",
        "outputId": "19fa8260-bb38-4caf-feb0-5f4466d6dfd3"
      },
      "execution_count": 7,
      "outputs": [
        {
          "output_type": "stream",
          "name": "stdout",
          "text": [
            "<class 'pandas.core.frame.DataFrame'>\n",
            "RangeIndex: 625783 entries, 0 to 625782\n",
            "Data columns (total 92 columns):\n",
            " #   Column             Non-Null Count   Dtype         \n",
            "---  ------             --------------   -----         \n",
            " 0   Flow_ID            625783 non-null  int64         \n",
            " 1   Src_IP             625783 non-null  int64         \n",
            " 2   Src_Port           625783 non-null  int64         \n",
            " 3   Dst_IP             625783 non-null  int64         \n",
            " 4   Dst_Port           625783 non-null  int64         \n",
            " 5   Protocol           625783 non-null  int64         \n",
            " 6   Timestamp          625783 non-null  datetime64[ns]\n",
            " 7   Flow_Duration      625783 non-null  int64         \n",
            " 8   Tot_Fwd_Pkts       625783 non-null  int64         \n",
            " 9   Tot_Bwd_Pkts       625783 non-null  int64         \n",
            " 10  TotLen_Fwd_Pkts    625783 non-null  float64       \n",
            " 11  TotLen_Bwd_Pkts    625783 non-null  float64       \n",
            " 12  Fwd_Pkt_Len_Max    625783 non-null  float64       \n",
            " 13  Fwd_Pkt_Len_Min    625783 non-null  float64       \n",
            " 14  Fwd_Pkt_Len_Mean   625783 non-null  float64       \n",
            " 15  Fwd_Pkt_Len_Std    625783 non-null  float64       \n",
            " 16  Bwd_Pkt_Len_Max    625783 non-null  float64       \n",
            " 17  Bwd_Pkt_Len_Min    625783 non-null  float64       \n",
            " 18  Bwd_Pkt_Len_Mean   625783 non-null  float64       \n",
            " 19  Bwd_Pkt_Len_Std    625783 non-null  float64       \n",
            " 20  Flow_Byts/s        625783 non-null  float64       \n",
            " 21  Flow_Pkts/s        625783 non-null  float64       \n",
            " 22  Flow_IAT_Mean      625783 non-null  float64       \n",
            " 23  Flow_IAT_Std       625783 non-null  float64       \n",
            " 24  Flow_IAT_Max       625783 non-null  float64       \n",
            " 25  Flow_IAT_Min       625783 non-null  float64       \n",
            " 26  Fwd_IAT_Tot        625783 non-null  float64       \n",
            " 27  Fwd_IAT_Mean       625783 non-null  float64       \n",
            " 28  Fwd_IAT_Std        625783 non-null  float64       \n",
            " 29  Fwd_IAT_Max        625783 non-null  float64       \n",
            " 30  Fwd_IAT_Min        625783 non-null  float64       \n",
            " 31  Bwd_IAT_Tot        625783 non-null  float64       \n",
            " 32  Bwd_IAT_Mean       625783 non-null  float64       \n",
            " 33  Bwd_IAT_Std        625783 non-null  float64       \n",
            " 34  Bwd_IAT_Max        625783 non-null  float64       \n",
            " 35  Bwd_IAT_Min        625783 non-null  float64       \n",
            " 36  Fwd_PSH_Flags      625783 non-null  int64         \n",
            " 37  Bwd_PSH_Flags      625783 non-null  int64         \n",
            " 38  Fwd_URG_Flags      625783 non-null  int64         \n",
            " 39  Bwd_URG_Flags      625783 non-null  int64         \n",
            " 40  Fwd_Header_Len     625783 non-null  int64         \n",
            " 41  Bwd_Header_Len     625783 non-null  int64         \n",
            " 42  Fwd_Pkts/s         625783 non-null  float64       \n",
            " 43  Bwd_Pkts/s         625783 non-null  float64       \n",
            " 44  Pkt_Len_Min        625783 non-null  float64       \n",
            " 45  Pkt_Len_Max        625783 non-null  float64       \n",
            " 46  Pkt_Len_Mean       625783 non-null  float64       \n",
            " 47  Pkt_Len_Std        625783 non-null  float64       \n",
            " 48  Pkt_Len_Var        625783 non-null  float64       \n",
            " 49  FIN_Flag_Cnt       625783 non-null  int64         \n",
            " 50  SYN_Flag_Cnt       625783 non-null  int64         \n",
            " 51  RST_Flag_Cnt       625783 non-null  int64         \n",
            " 52  PSH_Flag_Cnt       625783 non-null  int64         \n",
            " 53  ACK_Flag_Cnt       625783 non-null  int64         \n",
            " 54  URG_Flag_Cnt       625783 non-null  int64         \n",
            " 55  CWE_Flag_Count     625783 non-null  int64         \n",
            " 56  ECE_Flag_Cnt       625783 non-null  int64         \n",
            " 57  Down/Up_Ratio      625783 non-null  float64       \n",
            " 58  Pkt_Size_Avg       625783 non-null  float64       \n",
            " 59  Fwd_Seg_Size_Avg   625783 non-null  float64       \n",
            " 60  Bwd_Seg_Size_Avg   625783 non-null  float64       \n",
            " 61  Fwd_Byts/b_Avg     625783 non-null  int64         \n",
            " 62  Fwd_Pkts/b_Avg     625783 non-null  int64         \n",
            " 63  Fwd_Blk_Rate_Avg   625783 non-null  int64         \n",
            " 64  Bwd_Byts/b_Avg     625783 non-null  int64         \n",
            " 65  Bwd_Pkts/b_Avg     625783 non-null  int64         \n",
            " 66  Bwd_Blk_Rate_Avg   625783 non-null  int64         \n",
            " 67  Subflow_Fwd_Pkts   625783 non-null  int64         \n",
            " 68  Subflow_Fwd_Byts   625783 non-null  int64         \n",
            " 69  Subflow_Bwd_Pkts   625783 non-null  int64         \n",
            " 70  Subflow_Bwd_Byts   625783 non-null  int64         \n",
            " 71  Init_Fwd_Win_Byts  625783 non-null  int64         \n",
            " 72  Init_Bwd_Win_Byts  625783 non-null  int64         \n",
            " 73  Fwd_Act_Data_Pkts  625783 non-null  int64         \n",
            " 74  Fwd_Seg_Size_Min   625783 non-null  int64         \n",
            " 75  Active_Mean        625783 non-null  float64       \n",
            " 76  Active_Std         625783 non-null  float64       \n",
            " 77  Active_Max         625783 non-null  float64       \n",
            " 78  Active_Min         625783 non-null  float64       \n",
            " 79  Idle_Mean          625783 non-null  float64       \n",
            " 80  Idle_Std           625783 non-null  float64       \n",
            " 81  Idle_Max           625783 non-null  float64       \n",
            " 82  Idle_Min           625783 non-null  float64       \n",
            " 83  Label              625783 non-null  object        \n",
            " 84  Cat                625783 non-null  int64         \n",
            " 85  Sub_Cat            625783 non-null  int64         \n",
            " 86  Day                625783 non-null  int64         \n",
            " 87  Month              625783 non-null  int64         \n",
            " 88  Year               625783 non-null  int64         \n",
            " 89  Hour               625783 non-null  int64         \n",
            " 90  Minute             625783 non-null  int64         \n",
            " 91  Second             625783 non-null  int64         \n",
            "dtypes: datetime64[ns](1), float64(45), int64(45), object(1)\n",
            "memory usage: 439.2+ MB\n"
          ]
        }
      ]
    },
    {
      "cell_type": "code",
      "source": [
        "import pandas as pd\n",
        "\n",
        "# Assuming 'data' is your DataFrame\n",
        "# Check for NaN values\n",
        "nan_check = data.isna().sum()\n",
        "\n",
        "# Check for infinite values\n",
        "inf_check = data.replace([np.inf, -np.inf], np.nan).isna().sum()\n",
        "\n",
        "print(\"NaN values per column:\")\n",
        "print(nan_check)\n",
        "\n",
        "print(\"\\nInfinite values per column:\")\n",
        "print(inf_check)\n"
      ],
      "metadata": {
        "colab": {
          "base_uri": "https://localhost:8080/"
        },
        "id": "CKEtkDbSPRfs",
        "outputId": "f91a0e4c-aaa4-4286-a2e6-a0769fdedf23"
      },
      "execution_count": 10,
      "outputs": [
        {
          "output_type": "stream",
          "name": "stdout",
          "text": [
            "NaN values per column:\n",
            "Flow_ID     0\n",
            "Src_IP      0\n",
            "Src_Port    0\n",
            "Dst_IP      0\n",
            "Dst_Port    0\n",
            "           ..\n",
            "Month       0\n",
            "Year        0\n",
            "Hour        0\n",
            "Minute      0\n",
            "Second      0\n",
            "Length: 92, dtype: int64\n",
            "\n",
            "Infinite values per column:\n",
            "Flow_ID     0\n",
            "Src_IP      0\n",
            "Src_Port    0\n",
            "Dst_IP      0\n",
            "Dst_Port    0\n",
            "           ..\n",
            "Month       0\n",
            "Year        0\n",
            "Hour        0\n",
            "Minute      0\n",
            "Second      0\n",
            "Length: 92, dtype: int64\n"
          ]
        }
      ]
    },
    {
      "cell_type": "code",
      "source": [
        "for i in nan_check:\n",
        "  if i != 0 :\n",
        "    print(i)"
      ],
      "metadata": {
        "id": "tq3PercHR-KF"
      },
      "execution_count": 11,
      "outputs": []
    },
    {
      "cell_type": "code",
      "source": [
        "\n",
        "# Assuming 'data' is your DataFrame\n",
        "# Check for infinite values\n",
        "inf_check = data.replace([np.inf, -np.inf], np.nan).isna().sum()\n",
        "\n",
        "# Print columns with infinite values\n",
        "for column in inf_check.index:\n",
        "    if inf_check[column] > 0:\n",
        "        print(f\"Column '{column}' has {inf_check[column]} infinite values.\")\n"
      ],
      "metadata": {
        "colab": {
          "base_uri": "https://localhost:8080/"
        },
        "id": "9WPB6v3CSKUU",
        "outputId": "02906283-f838-4a94-cab1-fbc65aa9b147"
      },
      "execution_count": 7,
      "outputs": [
        {
          "output_type": "stream",
          "name": "stdout",
          "text": [
            "Column 'Flow_Byts/s' has 368 infinite values.\n",
            "Column 'Flow_Pkts/s' has 368 infinite values.\n"
          ]
        }
      ]
    },
    {
      "cell_type": "code",
      "source": [
        "columns_with_inf = ['Flow_Byts/s', 'Flow_Pkts/s']\n",
        "\n",
        "# Replace infinite values with a large finite value\n",
        "data[columns_with_inf] = data[columns_with_inf].replace([np.inf, -np.inf], np.finfo('float64').max)\n"
      ],
      "metadata": {
        "id": "GKSh36cDTRQf"
      },
      "execution_count": 8,
      "outputs": []
    },
    {
      "cell_type": "code",
      "source": [
        "# Assuming 'data' is your DataFrame\n",
        "# Check for infinite values\n",
        "inf_check = data.replace([np.inf, -np.inf], np.nan).isna().sum()\n",
        "\n",
        "# Print columns with infinite values\n",
        "for column in inf_check.index:\n",
        "    if inf_check[column] > 0:\n",
        "        print(f\"Column '{column}' has {inf_check[column]} infinite values.\")"
      ],
      "metadata": {
        "id": "A5Ve5tvuTWTc"
      },
      "execution_count": 9,
      "outputs": []
    },
    {
      "cell_type": "code",
      "source": [
        "data[\"Label\"].value_counts()"
      ],
      "metadata": {
        "colab": {
          "base_uri": "https://localhost:8080/"
        },
        "id": "REEB9wNdUxRf",
        "outputId": "ce52be11-3052-439d-f88f-ee3f589a3b86"
      },
      "execution_count": 15,
      "outputs": [
        {
          "output_type": "execute_result",
          "data": {
            "text/plain": [
              "Anomaly    585710\n",
              "Normal      40073\n",
              "Name: Label, dtype: int64"
            ]
          },
          "metadata": {},
          "execution_count": 15
        }
      ]
    },
    {
      "cell_type": "code",
      "source": [
        "from sklearn.model_selection import train_test_split\n",
        "from sklearn.preprocessing import LabelEncoder\n",
        "from sklearn.preprocessing import StandardScaler\n",
        "from sklearn.metrics import classification_report, confusion_matrix\n",
        "import tensorflow as tf\n",
        "from tensorflow.keras.models import Sequential\n",
        "from tensorflow.keras.layers import Dense\n",
        "from tensorflow.keras.callbacks import EarlyStopping\n",
        "from keras.optimizers import Adam"
      ],
      "metadata": {
        "id": "73QnXK5TPBUR"
      },
      "execution_count": 10,
      "outputs": []
    },
    {
      "cell_type": "code",
      "source": [
        "X = data.drop([\"Label\", \"Timestamp\"], axis=1)\n",
        "y = data[\"Label\"]\n",
        "\n",
        "le = LabelEncoder()\n",
        "y = le.fit_transform(y)\n",
        "\n",
        "X_train, X_test, y_train, y_test = train_test_split(X, y, test_size=0.2, random_state=42)\n"
      ],
      "metadata": {
        "id": "K-PWEBAKOSMl"
      },
      "execution_count": 11,
      "outputs": []
    },
    {
      "cell_type": "code",
      "source": [
        "y"
      ],
      "metadata": {
        "colab": {
          "base_uri": "https://localhost:8080/"
        },
        "id": "ZqRZU58fUjON",
        "outputId": "22a3fe3d-7794-4da9-ac04-52af4235e3bf"
      },
      "execution_count": 90,
      "outputs": [
        {
          "output_type": "execute_result",
          "data": {
            "text/plain": [
              "array([0, 0, 0, ..., 0, 1, 0])"
            ]
          },
          "metadata": {},
          "execution_count": 90
        }
      ]
    },
    {
      "cell_type": "code",
      "source": [
        "# Get unique classes and their counts\n",
        "unique_classes, counts = np.unique(y, return_counts=True)\n",
        "\n",
        "# Print the counts for each unique class\n",
        "for class_value, count in zip(unique_classes, counts):\n",
        "    print(f\"Class {class_value}: {count} occurrences\")"
      ],
      "metadata": {
        "colab": {
          "base_uri": "https://localhost:8080/"
        },
        "id": "QIDp5gHYVYIM",
        "outputId": "1513e814-df0c-4f6b-a49a-705395ab68a5"
      },
      "execution_count": 91,
      "outputs": [
        {
          "output_type": "stream",
          "name": "stdout",
          "text": [
            "Class 0: 585710 occurrences\n",
            "Class 1: 40073 occurrences\n"
          ]
        }
      ]
    },
    {
      "cell_type": "markdown",
      "source": [
        "from imblearn.over_sampling import SMOTE\n",
        "from sklearn.model_selection import train_test_split\n",
        "import pandas as pd\n",
        "\n",
        "# Apply SMOTE only to the training set\n",
        "smote = SMOTE(random_state=42)\n",
        "X_resampled, y_resampled = smote.fit_resample(X_train, y_train)\n",
        "\n",
        "# Now X_resampled and y_resampled contain the oversampled data\n"
      ],
      "metadata": {
        "id": "jf2yZhrSW-wI"
      }
    },
    {
      "cell_type": "code",
      "source": [],
      "metadata": {
        "id": "RQY9QcH7XER3"
      },
      "execution_count": 19,
      "outputs": []
    },
    {
      "cell_type": "markdown",
      "source": [
        "# Get unique classes and their counts\n",
        "unique_classes, counts = np.unique(y_resampled, return_counts=True)\n",
        "\n",
        "# Print the counts for each unique class\n",
        "for class_value, count in zip(unique_classes, counts):\n",
        "    print(f\"Class {class_value}: {count} occurrences\")"
      ],
      "metadata": {
        "id": "BBkYkjeTXJkv"
      }
    },
    {
      "cell_type": "code",
      "source": [
        "## split test data to x_test and valid"
      ],
      "metadata": {
        "id": "HuD6_tszQG7D"
      },
      "execution_count": 135,
      "outputs": []
    },
    {
      "cell_type": "code",
      "source": [
        "x_test, x_valid, y_test, y_valid = train_test_split(X_test, y_test, test_size=0.4, random_state=42)\n"
      ],
      "metadata": {
        "id": "lyF5NkRKamcj"
      },
      "execution_count": 12,
      "outputs": []
    },
    {
      "cell_type": "code",
      "source": [
        "len(x_test)"
      ],
      "metadata": {
        "colab": {
          "base_uri": "https://localhost:8080/"
        },
        "id": "yY8H7hzXbC3e",
        "outputId": "dd519021-57d1-4742-8278-052fa01236e1"
      },
      "execution_count": 13,
      "outputs": [
        {
          "output_type": "execute_result",
          "data": {
            "text/plain": [
              "75094"
            ]
          },
          "metadata": {},
          "execution_count": 13
        }
      ]
    },
    {
      "cell_type": "code",
      "source": [
        "len(x_valid)"
      ],
      "metadata": {
        "colab": {
          "base_uri": "https://localhost:8080/"
        },
        "id": "9_1MTQcCa-yv",
        "outputId": "4bc8f125-2f85-4e11-b0b6-f5eddfd78d5d"
      },
      "execution_count": 14,
      "outputs": [
        {
          "output_type": "execute_result",
          "data": {
            "text/plain": [
              "50063"
            ]
          },
          "metadata": {},
          "execution_count": 14
        }
      ]
    },
    {
      "cell_type": "code",
      "source": [
        "len(y_test)"
      ],
      "metadata": {
        "colab": {
          "base_uri": "https://localhost:8080/"
        },
        "id": "7LmJTwbLbbcf",
        "outputId": "c28da2c7-6daa-42af-ad11-a386bb396b16"
      },
      "execution_count": 15,
      "outputs": [
        {
          "output_type": "execute_result",
          "data": {
            "text/plain": [
              "75094"
            ]
          },
          "metadata": {},
          "execution_count": 15
        }
      ]
    },
    {
      "cell_type": "code",
      "source": [
        "len(y_valid)"
      ],
      "metadata": {
        "colab": {
          "base_uri": "https://localhost:8080/"
        },
        "id": "K6hEBPDqbdyt",
        "outputId": "4520d6a6-27bc-40cb-eb35-21f001e5dc7f"
      },
      "execution_count": 16,
      "outputs": [
        {
          "output_type": "execute_result",
          "data": {
            "text/plain": [
              "50063"
            ]
          },
          "metadata": {},
          "execution_count": 16
        }
      ]
    },
    {
      "cell_type": "code",
      "source": [
        "from sklearn.preprocessing import MinMaxScaler\n",
        "\n",
        "scaler = MinMaxScaler()\n",
        "X_train_scaled = scaler.fit_transform(X_train)\n",
        "X_test_scaled = scaler.transform(x_test)\n",
        "X_valid_scaled = scaler.transform(x_valid)\n"
      ],
      "metadata": {
        "id": "YfcrNvwFPqBL"
      },
      "execution_count": 17,
      "outputs": []
    },
    {
      "cell_type": "code",
      "source": [
        "import numpy as np\n",
        "\n",
        "# Check for NaN values in y_train\n",
        "nan_indices_train = np.isnan(y_train)\n",
        "nan_count_train = np.sum(nan_indices_train)\n",
        "\n",
        "# Check for NaN values in y_test\n",
        "nan_indices_test = np.isnan(y_test)\n",
        "nan_count_test = np.sum(nan_indices_test)\n",
        "\n",
        "print(\"NaN count in y_train:\", nan_count_train)\n",
        "print(\"NaN count in y_test:\", nan_count_test)\n"
      ],
      "metadata": {
        "colab": {
          "base_uri": "https://localhost:8080/"
        },
        "id": "bJOnkPTuZ3wR",
        "outputId": "7294345a-5a5c-4c4d-d323-cd19e6ad74ef"
      },
      "execution_count": 98,
      "outputs": [
        {
          "output_type": "stream",
          "name": "stdout",
          "text": [
            "NaN count in y_train: 0\n",
            "NaN count in y_test: 0\n"
          ]
        }
      ]
    },
    {
      "cell_type": "markdown",
      "source": [
        "## CNN MODEL"
      ],
      "metadata": {
        "id": "IxgfG65PmWkn"
      }
    },
    {
      "cell_type": "markdown",
      "source": [
        "### Binary Classification\n"
      ],
      "metadata": {
        "id": "e847UMopmg_X"
      }
    },
    {
      "cell_type": "code",
      "source": [
        "early_stopping = EarlyStopping(monitor='val_loss', patience=2, restore_best_weights=True)\n",
        "\n",
        "model = Sequential()\n",
        "model.add(Dense(64, input_dim=X_train.shape[1], activation='relu'))\n",
        "model.add(Dense(32, activation='relu'))\n",
        "model.add(Dense(1, activation='sigmoid'))\n",
        "model.compile(loss='binary_crossentropy', optimizer=\"adam\", metrics=['accuracy'])\n",
        "\n",
        "history = model.fit(X_train_scaled, y_train, epochs=10, batch_size=100, validation_data=(X_valid_scaled, y_valid), callbacks=[early_stopping])\n",
        "\n"
      ],
      "metadata": {
        "colab": {
          "base_uri": "https://localhost:8080/"
        },
        "id": "bplKzqkBPPjL",
        "outputId": "848a3fa1-9a19-4c23-b5ca-b57516df2c4c"
      },
      "execution_count": 18,
      "outputs": [
        {
          "output_type": "stream",
          "name": "stdout",
          "text": [
            "Epoch 1/10\n",
            "5007/5007 [==============================] - 17s 3ms/step - loss: 0.0093 - accuracy: 0.9973 - val_loss: 1.2952e-05 - val_accuracy: 1.0000\n",
            "Epoch 2/10\n",
            "5007/5007 [==============================] - 14s 3ms/step - loss: 3.9390e-06 - accuracy: 1.0000 - val_loss: 6.4135e-07 - val_accuracy: 1.0000\n",
            "Epoch 3/10\n",
            "5007/5007 [==============================] - 14s 3ms/step - loss: 4.0388e-07 - accuracy: 1.0000 - val_loss: 4.2243e-08 - val_accuracy: 1.0000\n",
            "Epoch 4/10\n",
            "5007/5007 [==============================] - 14s 3ms/step - loss: 3.2059e-05 - accuracy: 1.0000 - val_loss: 4.3206e-04 - val_accuracy: 0.9999\n",
            "Epoch 5/10\n",
            "5007/5007 [==============================] - 14s 3ms/step - loss: 9.3577e-07 - accuracy: 1.0000 - val_loss: 3.3553e-07 - val_accuracy: 1.0000\n"
          ]
        }
      ]
    },
    {
      "cell_type": "code",
      "source": [],
      "metadata": {
        "id": "MK9zRMtKdDRr"
      },
      "execution_count": 63,
      "outputs": []
    },
    {
      "cell_type": "code",
      "source": [
        "import numpy as np\n",
        "\n",
        "unique_values = np.unique(y_test)\n",
        "print(unique_values)\n",
        "\n"
      ],
      "metadata": {
        "colab": {
          "base_uri": "https://localhost:8080/"
        },
        "id": "U83otlX_dRWy",
        "outputId": "60b18810-024b-4b49-d9e2-0efac8c7a7b1"
      },
      "execution_count": 19,
      "outputs": [
        {
          "output_type": "stream",
          "name": "stdout",
          "text": [
            "[0 1]\n"
          ]
        }
      ]
    },
    {
      "cell_type": "code",
      "source": [
        "y_pred = model.predict(X_test_scaled)\n"
      ],
      "metadata": {
        "colab": {
          "base_uri": "https://localhost:8080/"
        },
        "id": "fT7qhvQBdtZ8",
        "outputId": "91715cbe-4763-4e87-974d-8dd7406e1d3c"
      },
      "execution_count": 20,
      "outputs": [
        {
          "output_type": "stream",
          "name": "stdout",
          "text": [
            "2347/2347 [==============================] - 3s 1ms/step\n"
          ]
        }
      ]
    },
    {
      "cell_type": "code",
      "source": [
        "print(\"y_test dtype:\", y_test.dtype)\n",
        "print(\"y_pred dtype:\", y_pred.dtype)\n"
      ],
      "metadata": {
        "colab": {
          "base_uri": "https://localhost:8080/"
        },
        "id": "xr5puHYMdkvA",
        "outputId": "6a018b89-7d0e-40ae-a013-2081f6d0981e"
      },
      "execution_count": 21,
      "outputs": [
        {
          "output_type": "stream",
          "name": "stdout",
          "text": [
            "y_test dtype: int64\n",
            "y_pred dtype: float32\n"
          ]
        }
      ]
    },
    {
      "cell_type": "code",
      "source": [
        "y_pred_binary = (y_pred > 0.5).astype(int)"
      ],
      "metadata": {
        "id": "Wi9FD7lfdm5w"
      },
      "execution_count": 22,
      "outputs": []
    },
    {
      "cell_type": "code",
      "source": [
        "print(confusion_matrix(y_test, y_pred_binary))\n",
        "print(classification_report(y_test, y_pred_binary))"
      ],
      "metadata": {
        "colab": {
          "base_uri": "https://localhost:8080/"
        },
        "id": "d9LjuTAwRUYI",
        "outputId": "3e59f179-9ac8-4066-f3e4-bc0d30ca8ff4"
      },
      "execution_count": 23,
      "outputs": [
        {
          "output_type": "stream",
          "name": "stdout",
          "text": [
            "[[70342     0]\n",
            " [    0  4752]]\n",
            "              precision    recall  f1-score   support\n",
            "\n",
            "           0       1.00      1.00      1.00     70342\n",
            "           1       1.00      1.00      1.00      4752\n",
            "\n",
            "    accuracy                           1.00     75094\n",
            "   macro avg       1.00      1.00      1.00     75094\n",
            "weighted avg       1.00      1.00      1.00     75094\n",
            "\n"
          ]
        }
      ]
    },
    {
      "cell_type": "code",
      "source": [
        "# Plot the training and validation loss\n",
        "plt.plot(history.history['loss'], label='Training Loss')\n",
        "plt.plot(history.history['val_loss'], label='Validation Loss')\n",
        "plt.title('Training and Validation Loss')\n",
        "plt.xlabel('Epoch')\n",
        "plt.ylabel('Loss')\n",
        "plt.legend()\n",
        "plt.show()"
      ],
      "metadata": {
        "colab": {
          "base_uri": "https://localhost:8080/",
          "height": 472
        },
        "id": "ZoVPk3nwK3fr",
        "outputId": "0a586172-e342-4f13-db6e-7b1a4bf9eaaf"
      },
      "execution_count": 24,
      "outputs": [
        {
          "output_type": "display_data",
          "data": {
            "text/plain": [
              "<Figure size 640x480 with 1 Axes>"
            ],
            "image/png": "[encoded data removed]"
          },
          "metadata": {}
        }
      ]
    },
    {
      "cell_type": "markdown",
      "source": [
        "# GradientBoostingClassifier MODEL\n"
      ],
      "metadata": {
        "id": "vr6uN1iNm-e8"
      }
    },
    {
      "cell_type": "code",
      "source": [
        "from sklearn.ensemble import GradientBoostingClassifier\n",
        "from sklearn.model_selection import train_test_split\n",
        "from sklearn.preprocessing import MinMaxScaler\n",
        "from sklearn.preprocessing import LabelEncoder\n",
        "from sklearn.metrics import confusion_matrix, classification_report\n",
        "\n",
        "# Assuming you have X_train_scaled, X_test_scaled, y_train, and y_test\n",
        "\n",
        "# Initialize the Gradient Boosting Classifier\n",
        "gb_classifier = GradientBoostingClassifier(n_estimators=100, learning_rate=0.1, max_depth=3, random_state=42)\n",
        "\n",
        "# Training the model\n",
        "gb_classifier.fit(X_train_scaled, y_train)\n",
        "\n",
        "# Predictions on test set\n",
        "y_pred = gb_classifier.predict(X_test_scaled)\n",
        "\n",
        "# Evaluate the model\n",
        "print(confusion_matrix(y_test, y_pred))\n",
        "print(classification_report(y_test, y_pred))\n"
      ],
      "metadata": {
        "colab": {
          "base_uri": "https://localhost:8080/",
          "height": 391
        },
        "id": "FW-anfpsm9VT",
        "outputId": "a6053f9b-f1c0-462a-fe78-62c332ea4782"
      },
      "execution_count": 25,
      "outputs": [
        {
          "output_type": "error",
          "ename": "KeyboardInterrupt",
          "evalue": "ignored",
          "traceback": [
            "\u001b[0;31m---------------------------------------------------------------------------\u001b[0m",
            "\u001b[0;31mKeyboardInterrupt\u001b[0m                         Traceback (most recent call last)",
            "\u001b[0;32m<ipython-input-25-0b7829fb1142>\u001b[0m in \u001b[0;36m<cell line: 13>\u001b[0;34m()\u001b[0m\n\u001b[1;32m     11\u001b[0m \u001b[0;34m\u001b[0m\u001b[0m\n\u001b[1;32m     12\u001b[0m \u001b[0;31m# Training the model\u001b[0m\u001b[0;34m\u001b[0m\u001b[0;34m\u001b[0m\u001b[0m\n\u001b[0;32m---> 13\u001b[0;31m \u001b[0mgb_classifier\u001b[0m\u001b[0;34m.\u001b[0m\u001b[0mfit\u001b[0m\u001b[0;34m(\u001b[0m\u001b[0mX_train_scaled\u001b[0m\u001b[0;34m,\u001b[0m \u001b[0my_train\u001b[0m\u001b[0;34m)\u001b[0m\u001b[0;34m\u001b[0m\u001b[0;34m\u001b[0m\u001b[0m\n\u001b[0m\u001b[1;32m     14\u001b[0m \u001b[0;34m\u001b[0m\u001b[0m\n\u001b[1;32m     15\u001b[0m \u001b[0;31m# Predictions on test set\u001b[0m\u001b[0;34m\u001b[0m\u001b[0;34m\u001b[0m\u001b[0m\n",
            "\u001b[0;32m/usr/local/lib/python3.10/dist-packages/sklearn/ensemble/_gb.py\u001b[0m in \u001b[0;36mfit\u001b[0;34m(self, X, y, sample_weight, monitor)\u001b[0m\n\u001b[1;32m    536\u001b[0m \u001b[0;34m\u001b[0m\u001b[0m\n\u001b[1;32m    537\u001b[0m         \u001b[0;31m# fit the boosting stages\u001b[0m\u001b[0;34m\u001b[0m\u001b[0;34m\u001b[0m\u001b[0m\n\u001b[0;32m--> 538\u001b[0;31m         n_stages = self._fit_stages(\n\u001b[0m\u001b[1;32m    539\u001b[0m             \u001b[0mX\u001b[0m\u001b[0;34m,\u001b[0m\u001b[0;34m\u001b[0m\u001b[0;34m\u001b[0m\u001b[0m\n\u001b[1;32m    540\u001b[0m             \u001b[0my\u001b[0m\u001b[0;34m,\u001b[0m\u001b[0;34m\u001b[0m\u001b[0;34m\u001b[0m\u001b[0m\n",
            "\u001b[0;32m/usr/local/lib/python3.10/dist-packages/sklearn/ensemble/_gb.py\u001b[0m in \u001b[0;36m_fit_stages\u001b[0;34m(self, X, y, raw_predictions, sample_weight, random_state, X_val, y_val, sample_weight_val, begin_at_stage, monitor)\u001b[0m\n\u001b[1;32m    613\u001b[0m \u001b[0;34m\u001b[0m\u001b[0m\n\u001b[1;32m    614\u001b[0m             \u001b[0;31m# fit next stage of trees\u001b[0m\u001b[0;34m\u001b[0m\u001b[0;34m\u001b[0m\u001b[0m\n\u001b[0;32m--> 615\u001b[0;31m             raw_predictions = self._fit_stage(\n\u001b[0m\u001b[1;32m    616\u001b[0m                 \u001b[0mi\u001b[0m\u001b[0;34m,\u001b[0m\u001b[0;34m\u001b[0m\u001b[0;34m\u001b[0m\u001b[0m\n\u001b[1;32m    617\u001b[0m                 \u001b[0mX\u001b[0m\u001b[0;34m,\u001b[0m\u001b[0;34m\u001b[0m\u001b[0;34m\u001b[0m\u001b[0m\n",
            "\u001b[0;32m/usr/local/lib/python3.10/dist-packages/sklearn/ensemble/_gb.py\u001b[0m in \u001b[0;36m_fit_stage\u001b[0;34m(self, i, X, y, raw_predictions, sample_weight, sample_mask, random_state, X_csc, X_csr)\u001b[0m\n\u001b[1;32m    255\u001b[0m \u001b[0;34m\u001b[0m\u001b[0m\n\u001b[1;32m    256\u001b[0m             \u001b[0mX\u001b[0m \u001b[0;34m=\u001b[0m \u001b[0mX_csr\u001b[0m \u001b[0;32mif\u001b[0m \u001b[0mX_csr\u001b[0m \u001b[0;32mis\u001b[0m \u001b[0;32mnot\u001b[0m \u001b[0;32mNone\u001b[0m \u001b[0;32melse\u001b[0m \u001b[0mX\u001b[0m\u001b[0;34m\u001b[0m\u001b[0;34m\u001b[0m\u001b[0m\n\u001b[0;32m--> 257\u001b[0;31m             \u001b[0mtree\u001b[0m\u001b[0;34m.\u001b[0m\u001b[0mfit\u001b[0m\u001b[0;34m(\u001b[0m\u001b[0mX\u001b[0m\u001b[0;34m,\u001b[0m \u001b[0mresidual\u001b[0m\u001b[0;34m,\u001b[0m \u001b[0msample_weight\u001b[0m\u001b[0;34m=\u001b[0m\u001b[0msample_weight\u001b[0m\u001b[0;34m,\u001b[0m \u001b[0mcheck_input\u001b[0m\u001b[0;34m=\u001b[0m\u001b[0;32mFalse\u001b[0m\u001b[0;34m)\u001b[0m\u001b[0;34m\u001b[0m\u001b[0;34m\u001b[0m\u001b[0m\n\u001b[0m\u001b[1;32m    258\u001b[0m \u001b[0;34m\u001b[0m\u001b[0m\n\u001b[1;32m    259\u001b[0m             \u001b[0;31m# update tree leaves\u001b[0m\u001b[0;34m\u001b[0m\u001b[0;34m\u001b[0m\u001b[0m\n",
            "\u001b[0;32m/usr/local/lib/python3.10/dist-packages/sklearn/tree/_classes.py\u001b[0m in \u001b[0;36mfit\u001b[0;34m(self, X, y, sample_weight, check_input)\u001b[0m\n\u001b[1;32m   1245\u001b[0m         \"\"\"\n\u001b[1;32m   1246\u001b[0m \u001b[0;34m\u001b[0m\u001b[0m\n\u001b[0;32m-> 1247\u001b[0;31m         super().fit(\n\u001b[0m\u001b[1;32m   1248\u001b[0m             \u001b[0mX\u001b[0m\u001b[0;34m,\u001b[0m\u001b[0;34m\u001b[0m\u001b[0;34m\u001b[0m\u001b[0m\n\u001b[1;32m   1249\u001b[0m             \u001b[0my\u001b[0m\u001b[0;34m,\u001b[0m\u001b[0;34m\u001b[0m\u001b[0;34m\u001b[0m\u001b[0m\n",
            "\u001b[0;32m/usr/local/lib/python3.10/dist-packages/sklearn/tree/_classes.py\u001b[0m in \u001b[0;36mfit\u001b[0;34m(self, X, y, sample_weight, check_input)\u001b[0m\n\u001b[1;32m    377\u001b[0m             )\n\u001b[1;32m    378\u001b[0m \u001b[0;34m\u001b[0m\u001b[0m\n\u001b[0;32m--> 379\u001b[0;31m         \u001b[0mbuilder\u001b[0m\u001b[0;34m.\u001b[0m\u001b[0mbuild\u001b[0m\u001b[0;34m(\u001b[0m\u001b[0mself\u001b[0m\u001b[0;34m.\u001b[0m\u001b[0mtree_\u001b[0m\u001b[0;34m,\u001b[0m \u001b[0mX\u001b[0m\u001b[0;34m,\u001b[0m \u001b[0my\u001b[0m\u001b[0;34m,\u001b[0m \u001b[0msample_weight\u001b[0m\u001b[0;34m)\u001b[0m\u001b[0;34m\u001b[0m\u001b[0;34m\u001b[0m\u001b[0m\n\u001b[0m\u001b[1;32m    380\u001b[0m \u001b[0;34m\u001b[0m\u001b[0m\n\u001b[1;32m    381\u001b[0m         \u001b[0;32mif\u001b[0m \u001b[0mself\u001b[0m\u001b[0;34m.\u001b[0m\u001b[0mn_outputs_\u001b[0m \u001b[0;34m==\u001b[0m \u001b[0;36m1\u001b[0m \u001b[0;32mand\u001b[0m \u001b[0mis_classifier\u001b[0m\u001b[0;34m(\u001b[0m\u001b[0mself\u001b[0m\u001b[0;34m)\u001b[0m\u001b[0;34m:\u001b[0m\u001b[0;34m\u001b[0m\u001b[0;34m\u001b[0m\u001b[0m\n",
            "\u001b[0;31mKeyboardInterrupt\u001b[0m: "
          ]
        }
      ]
    },
    {
      "cell_type": "markdown",
      "source": [
        "### MultiClassification"
      ],
      "metadata": {
        "id": "K9wXt2zAgCOn"
      }
    },
    {
      "cell_type": "code",
      "source": [
        "class_mapping = {\n",
        "    \"Mirai-UDP Flooding\": 5,\n",
        "    \"Mirai-Hostbruteforceg\": 4,\n",
        "    \"DoS-Synflooding\": 0,\n",
        "    \"Mirai-HTTP Flooding\": 3,\n",
        "    \"Mirai-Ackflooding\": 2,\n",
        "    \"Scan Port OS\": 8,\n",
        "    \"Normal\": 6,\n",
        "    \"MITM ARP Spoofing\": 1,\n",
        "    \"Scan Hostport\": 7\n",
        "}\n",
        "\n",
        "for class_name, class_number in class_mapping.items():\n",
        "    print(f\"Class Name: {class_name}, Class Number: {class_number}\")\n"
      ],
      "metadata": {
        "colab": {
          "base_uri": "https://localhost:8080/"
        },
        "id": "2DDPRA3laDWY",
        "outputId": "39a5daea-a7b3-4524-a5f4-eb2f22f9d283"
      },
      "execution_count": 26,
      "outputs": [
        {
          "output_type": "stream",
          "name": "stdout",
          "text": [
            "Class Name: Mirai-UDP Flooding, Class Number: 5\n",
            "Class Name: Mirai-Hostbruteforceg, Class Number: 4\n",
            "Class Name: DoS-Synflooding, Class Number: 0\n",
            "Class Name: Mirai-HTTP Flooding, Class Number: 3\n",
            "Class Name: Mirai-Ackflooding, Class Number: 2\n",
            "Class Name: Scan Port OS, Class Number: 8\n",
            "Class Name: Normal, Class Number: 6\n",
            "Class Name: MITM ARP Spoofing, Class Number: 1\n",
            "Class Name: Scan Hostport, Class Number: 7\n"
          ]
        }
      ]
    },
    {
      "cell_type": "code",
      "source": [
        "from sklearn.preprocessing import LabelEncoder\n",
        "\n",
        "categorical_columns = ['Label']\n",
        "\n",
        "label_encoder = LabelEncoder()\n",
        "\n",
        "for column in categorical_columns:\n",
        "    data[column] = label_encoder.fit_transform(data[column])"
      ],
      "metadata": {
        "id": "FxWPKjTkgXpr"
      },
      "execution_count": 27,
      "outputs": []
    },
    {
      "cell_type": "code",
      "source": [
        "data[\"Label\"].value_counts()"
      ],
      "metadata": {
        "colab": {
          "base_uri": "https://localhost:8080/"
        },
        "id": "EgaE9GGsgjpJ",
        "outputId": "c5488424-8ff1-4941-c711-7944ce78a44c"
      },
      "execution_count": 28,
      "outputs": [
        {
          "output_type": "execute_result",
          "data": {
            "text/plain": [
              "0    585710\n",
              "1     40073\n",
              "Name: Label, dtype: int64"
            ]
          },
          "metadata": {},
          "execution_count": 28
        }
      ]
    },
    {
      "cell_type": "code",
      "source": [
        "data[\"Sub_Cat\"].value_counts()"
      ],
      "metadata": {
        "colab": {
          "base_uri": "https://localhost:8080/"
        },
        "id": "_ww2AeQfgsoi",
        "outputId": "5f15882b-0e7e-4e1b-95a0-6babec00f5cd"
      },
      "execution_count": 29,
      "outputs": [
        {
          "output_type": "execute_result",
          "data": {
            "text/plain": [
              "5    183554\n",
              "4    121181\n",
              "0     59391\n",
              "3     55818\n",
              "2     55124\n",
              "8     53073\n",
              "6     40073\n",
              "1     35377\n",
              "7     22192\n",
              "Name: Sub_Cat, dtype: int64"
            ]
          },
          "metadata": {},
          "execution_count": 29
        }
      ]
    },
    {
      "cell_type": "code",
      "source": [],
      "metadata": {
        "id": "xtkaxpI4l8iB"
      },
      "execution_count": 29,
      "outputs": []
    },
    {
      "cell_type": "code",
      "source": [],
      "metadata": {
        "id": "zomco1BegwTL"
      },
      "execution_count": 31,
      "outputs": []
    },
    {
      "cell_type": "code",
      "source": [
        "X = data.drop([\"Sub_Cat\", \"Timestamp\"], axis=1)\n",
        "y = data[\"Sub_Cat\"]\n",
        "\n",
        "X_train, X_test, y_train, y_test = train_test_split(X, y, test_size=0.2, random_state=42)\n"
      ],
      "metadata": {
        "id": "U_tl5WRUf9eV"
      },
      "execution_count": 32,
      "outputs": []
    },
    {
      "cell_type": "code",
      "source": [
        "X_test.head(3)"
      ],
      "metadata": {
        "colab": {
          "base_uri": "https://localhost:8080/",
          "height": 193
        },
        "id": "NQUJcuXIl-sr",
        "outputId": "8a165ad1-0c80-42cc-b0da-66d958b464ad"
      },
      "execution_count": 33,
      "outputs": [
        {
          "output_type": "execute_result",
          "data": {
            "text/plain": [
              "        Flow_ID  Src_IP  Src_Port  Dst_IP  Dst_Port  Protocol  Flow_Duration  \\\n",
              "197680    46096   25883     10102     347       443         6            166   \n",
              "434844    62370   25889     60096     233      8899        17            110   \n",
              "444688    13750   25883     60200     233      8899        17            167   \n",
              "\n",
              "        Tot_Fwd_Pkts  Tot_Bwd_Pkts  TotLen_Fwd_Pkts  ...  Idle_Max  Idle_Min  \\\n",
              "197680             3             7              0.0  ...      81.0       5.0   \n",
              "434844             1             1             32.0  ...     110.0     110.0   \n",
              "444688             1             1             32.0  ...     167.0     167.0   \n",
              "\n",
              "        Label  Cat  Day  Month  Year  Hour  Minute  Second  \n",
              "197680      0    2   20      8  2019     3       5      39  \n",
              "434844      0    2   25      7  2019     3      20      46  \n",
              "444688      0    2   25      7  2019     3      21      27  \n",
              "\n",
              "[3 rows x 90 columns]"
            ],
            "text/html": [
              "\n",
              "  <div id=\"df-1c05b6c7-70e5-4b3f-8c79-670f969b5c94\" class=\"colab-df-container\">\n",
              "    <div>\n",
              "<style scoped>\n",
              "    .dataframe tbody tr th:only-of-type {\n",
              "        vertical-align: middle;\n",
              "    }\n",
              "\n",
              "    .dataframe tbody tr th {\n",
              "        vertical-align: top;\n",
              "    }\n",
              "\n",
              "    .dataframe thead th {\n",
              "        text-align: right;\n",
              "    }\n",
              "</style>\n",
              "<table border=\"1\" class=\"dataframe\">\n",
              "  <thead>\n",
              "    <tr style=\"text-align: right;\">\n",
              "      <th></th>\n",
              "      <th>Flow_ID</th>\n",
              "      <th>Src_IP</th>\n",
              "      <th>Src_Port</th>\n",
              "      <th>Dst_IP</th>\n",
              "      <th>Dst_Port</th>\n",
              "      <th>Protocol</th>\n",
              "      <th>Flow_Duration</th>\n",
              "      <th>Tot_Fwd_Pkts</th>\n",
              "      <th>Tot_Bwd_Pkts</th>\n",
              "      <th>TotLen_Fwd_Pkts</th>\n",
              "      <th>...</th>\n",
              "      <th>Idle_Max</th>\n",
              "      <th>Idle_Min</th>\n",
              "      <th>Label</th>\n",
              "      <th>Cat</th>\n",
              "      <th>Day</th>\n",
              "      <th>Month</th>\n",
              "      <th>Year</th>\n",
              "      <th>Hour</th>\n",
              "      <th>Minute</th>\n",
              "      <th>Second</th>\n",
              "    </tr>\n",
              "  </thead>\n",
              "  <tbody>\n",
              "    <tr>\n",
              "      <th>197680</th>\n",
              "      <td>46096</td>\n",
              "      <td>25883</td>\n",
              "      <td>10102</td>\n",
              "      <td>347</td>\n",
              "      <td>443</td>\n",
              "      <td>6</td>\n",
              "      <td>166</td>\n",
              "      <td>3</td>\n",
              "      <td>7</td>\n",
              "      <td>0.0</td>\n",
              "      <td>...</td>\n",
              "      <td>81.0</td>\n",
              "      <td>5.0</td>\n",
              "      <td>0</td>\n",
              "      <td>2</td>\n",
              "      <td>20</td>\n",
              "      <td>8</td>\n",
              "      <td>2019</td>\n",
              "      <td>3</td>\n",
              "      <td>5</td>\n",
              "      <td>39</td>\n",
              "    </tr>\n",
              "    <tr>\n",
              "      <th>434844</th>\n",
              "      <td>62370</td>\n",
              "      <td>25889</td>\n",
              "      <td>60096</td>\n",
              "      <td>233</td>\n",
              "      <td>8899</td>\n",
              "      <td>17</td>\n",
              "      <td>110</td>\n",
              "      <td>1</td>\n",
              "      <td>1</td>\n",
              "      <td>32.0</td>\n",
              "      <td>...</td>\n",
              "      <td>110.0</td>\n",
              "      <td>110.0</td>\n",
              "      <td>0</td>\n",
              "      <td>2</td>\n",
              "      <td>25</td>\n",
              "      <td>7</td>\n",
              "      <td>2019</td>\n",
              "      <td>3</td>\n",
              "      <td>20</td>\n",
              "      <td>46</td>\n",
              "    </tr>\n",
              "    <tr>\n",
              "      <th>444688</th>\n",
              "      <td>13750</td>\n",
              "      <td>25883</td>\n",
              "      <td>60200</td>\n",
              "      <td>233</td>\n",
              "      <td>8899</td>\n",
              "      <td>17</td>\n",
              "      <td>167</td>\n",
              "      <td>1</td>\n",
              "      <td>1</td>\n",
              "      <td>32.0</td>\n",
              "      <td>...</td>\n",
              "      <td>167.0</td>\n",
              "      <td>167.0</td>\n",
              "      <td>0</td>\n",
              "      <td>2</td>\n",
              "      <td>25</td>\n",
              "      <td>7</td>\n",
              "      <td>2019</td>\n",
              "      <td>3</td>\n",
              "      <td>21</td>\n",
              "      <td>27</td>\n",
              "    </tr>\n",
              "  </tbody>\n",
              "</table>\n",
              "<p>3 rows × 90 columns</p>\n",
              "</div>\n",
              "    <div class=\"colab-df-buttons\">\n",
              "\n",
              "  <div class=\"colab-df-container\">\n",
              "    <button class=\"colab-df-convert\" onclick=\"convertToInteractive('df-1c05b6c7-70e5-4b3f-8c79-670f969b5c94')\"\n",
              "            title=\"Convert this dataframe to an interactive table.\"\n",
              "            style=\"display:none;\">\n",
              "\n",
              "  <svg xmlns=\"http://www.w3.org/2000/svg\" height=\"24px\" viewBox=\"0 -960 960 960\">\n",
              "    <path d=\"M120-120v-720h720v720H120Zm60-500h600v-160H180v160Zm220 220h160v-160H400v160Zm0 220h160v-160H400v160ZM180-400h160v-160H180v160Zm440 0h160v-160H620v160ZM180-180h160v-160H180v160Zm440 0h160v-160H620v160Z\"/>\n",
              "  </svg>\n",
              "    </button>\n",
              "\n",
              "  <style>\n",
              "    .colab-df-container {\n",
              "      display:flex;\n",
              "      gap: 12px;\n",
              "    }\n",
              "\n",
              "    .colab-df-convert {\n",
              "      background-color: #E8F0FE;\n",
              "      border: none;\n",
              "      border-radius: 50%;\n",
              "      cursor: pointer;\n",
              "      display: none;\n",
              "      fill: #1967D2;\n",
              "      height: 32px;\n",
              "      padding: 0 0 0 0;\n",
              "      width: 32px;\n",
              "    }\n",
              "\n",
              "    .colab-df-convert:hover {\n",
              "      background-color: #E2EBFA;\n",
              "      box-shadow: 0px 1px 2px rgba(60, 64, 67, 0.3), 0px 1px 3px 1px rgba(60, 64, 67, 0.15);\n",
              "      fill: #174EA6;\n",
              "    }\n",
              "\n",
              "    .colab-df-buttons div {\n",
              "      margin-bottom: 4px;\n",
              "    }\n",
              "\n",
              "    [theme=dark] .colab-df-convert {\n",
              "      background-color: #3B4455;\n",
              "      fill: #D2E3FC;\n",
              "    }\n",
              "\n",
              "    [theme=dark] .colab-df-convert:hover {\n",
              "      background-color: #434B5C;\n",
              "      box-shadow: 0px 1px 3px 1px rgba(0, 0, 0, 0.15);\n",
              "      filter: drop-shadow(0px 1px 2px rgba(0, 0, 0, 0.3));\n",
              "      fill: #FFFFFF;\n",
              "    }\n",
              "  </style>\n",
              "\n",
              "    <script>\n",
              "      const buttonEl =\n",
              "        document.querySelector('#df-1c05b6c7-70e5-4b3f-8c79-670f969b5c94 button.colab-df-convert');\n",
              "      buttonEl.style.display =\n",
              "        google.colab.kernel.accessAllowed ? 'block' : 'none';\n",
              "\n",
              "      async function convertToInteractive(key) {\n",
              "        const element = document.querySelector('#df-1c05b6c7-70e5-4b3f-8c79-670f969b5c94');\n",
              "        const dataTable =\n",
              "          await google.colab.kernel.invokeFunction('convertToInteractive',\n",
              "                                                    [key], {});\n",
              "        if (!dataTable) return;\n",
              "\n",
              "        const docLinkHtml = 'Like what you see? Visit the ' +\n",
              "          '<a target=\"_blank\" href=https://colab.research.google.com/notebooks/data_table.ipynb>data table notebook</a>'\n",
              "          + ' to learn more about interactive tables.';\n",
              "        element.innerHTML = '';\n",
              "        dataTable['output_type'] = 'display_data';\n",
              "        await google.colab.output.renderOutput(dataTable, element);\n",
              "        const docLink = document.createElement('div');\n",
              "        docLink.innerHTML = docLinkHtml;\n",
              "        element.appendChild(docLink);\n",
              "      }\n",
              "    </script>\n",
              "  </div>\n",
              "\n",
              "\n",
              "<div id=\"df-ba5e0f48-cc10-444e-93b7-1ed93dedcaca\">\n",
              "  <button class=\"colab-df-quickchart\" onclick=\"quickchart('df-ba5e0f48-cc10-444e-93b7-1ed93dedcaca')\"\n",
              "            title=\"Suggest charts\"\n",
              "            style=\"display:none;\">\n",
              "\n",
              "<svg xmlns=\"http://www.w3.org/2000/svg\" height=\"24px\"viewBox=\"0 0 24 24\"\n",
              "     width=\"24px\">\n",
              "    <g>\n",
              "        <path d=\"M19 3H5c-1.1 0-2 .9-2 2v14c0 1.1.9 2 2 2h14c1.1 0 2-.9 2-2V5c0-1.1-.9-2-2-2zM9 17H7v-7h2v7zm4 0h-2V7h2v10zm4 0h-2v-4h2v4z\"/>\n",
              "    </g>\n",
              "</svg>\n",
              "  </button>\n",
              "\n",
              "<style>\n",
              "  .colab-df-quickchart {\n",
              "      --bg-color: #E8F0FE;\n",
              "      --fill-color: #1967D2;\n",
              "      --hover-bg-color: #E2EBFA;\n",
              "      --hover-fill-color: #174EA6;\n",
              "      --disabled-fill-color: #AAA;\n",
              "      --disabled-bg-color: #DDD;\n",
              "  }\n",
              "\n",
              "  [theme=dark] .colab-df-quickchart {\n",
              "      --bg-color: #3B4455;\n",
              "      --fill-color: #D2E3FC;\n",
              "      --hover-bg-color: #434B5C;\n",
              "      --hover-fill-color: #FFFFFF;\n",
              "      --disabled-bg-color: #3B4455;\n",
              "      --disabled-fill-color: #666;\n",
              "  }\n",
              "\n",
              "  .colab-df-quickchart {\n",
              "    background-color: var(--bg-color);\n",
              "    border: none;\n",
              "    border-radius: 50%;\n",
              "    cursor: pointer;\n",
              "    display: none;\n",
              "    fill: var(--fill-color);\n",
              "    height: 32px;\n",
              "    padding: 0;\n",
              "    width: 32px;\n",
              "  }\n",
              "\n",
              "  .colab-df-quickchart:hover {\n",
              "    background-color: var(--hover-bg-color);\n",
              "    box-shadow: 0 1px 2px rgba(60, 64, 67, 0.3), 0 1px 3px 1px rgba(60, 64, 67, 0.15);\n",
              "    fill: var(--button-hover-fill-color);\n",
              "  }\n",
              "\n",
              "  .colab-df-quickchart-complete:disabled,\n",
              "  .colab-df-quickchart-complete:disabled:hover {\n",
              "    background-color: var(--disabled-bg-color);\n",
              "    fill: var(--disabled-fill-color);\n",
              "    box-shadow: none;\n",
              "  }\n",
              "\n",
              "  .colab-df-spinner {\n",
              "    border: 2px solid var(--fill-color);\n",
              "    border-color: transparent;\n",
              "    border-bottom-color: var(--fill-color);\n",
              "    animation:\n",
              "      spin 1s steps(1) infinite;\n",
              "  }\n",
              "\n",
              "  @keyframes spin {\n",
              "    0% {\n",
              "      border-color: transparent;\n",
              "      border-bottom-color: var(--fill-color);\n",
              "      border-left-color: var(--fill-color);\n",
              "    }\n",
              "    20% {\n",
              "      border-color: transparent;\n",
              "      border-left-color: var(--fill-color);\n",
              "      border-top-color: var(--fill-color);\n",
              "    }\n",
              "    30% {\n",
              "      border-color: transparent;\n",
              "      border-left-color: var(--fill-color);\n",
              "      border-top-color: var(--fill-color);\n",
              "      border-right-color: var(--fill-color);\n",
              "    }\n",
              "    40% {\n",
              "      border-color: transparent;\n",
              "      border-right-color: var(--fill-color);\n",
              "      border-top-color: var(--fill-color);\n",
              "    }\n",
              "    60% {\n",
              "      border-color: transparent;\n",
              "      border-right-color: var(--fill-color);\n",
              "    }\n",
              "    80% {\n",
              "      border-color: transparent;\n",
              "      border-right-color: var(--fill-color);\n",
              "      border-bottom-color: var(--fill-color);\n",
              "    }\n",
              "    90% {\n",
              "      border-color: transparent;\n",
              "      border-bottom-color: var(--fill-color);\n",
              "    }\n",
              "  }\n",
              "</style>\n",
              "\n",
              "  <script>\n",
              "    async function quickchart(key) {\n",
              "      const quickchartButtonEl =\n",
              "        document.querySelector('#' + key + ' button');\n",
              "      quickchartButtonEl.disabled = true;  // To prevent multiple clicks.\n",
              "      quickchartButtonEl.classList.add('colab-df-spinner');\n",
              "      try {\n",
              "        const charts = await google.colab.kernel.invokeFunction(\n",
              "            'suggestCharts', [key], {});\n",
              "      } catch (error) {\n",
              "        console.error('Error during call to suggestCharts:', error);\n",
              "      }\n",
              "      quickchartButtonEl.classList.remove('colab-df-spinner');\n",
              "      quickchartButtonEl.classList.add('colab-df-quickchart-complete');\n",
              "    }\n",
              "    (() => {\n",
              "      let quickchartButtonEl =\n",
              "        document.querySelector('#df-ba5e0f48-cc10-444e-93b7-1ed93dedcaca button');\n",
              "      quickchartButtonEl.style.display =\n",
              "        google.colab.kernel.accessAllowed ? 'block' : 'none';\n",
              "    })();\n",
              "  </script>\n",
              "</div>\n",
              "    </div>\n",
              "  </div>\n"
            ]
          },
          "metadata": {},
          "execution_count": 33
        }
      ]
    },
    {
      "cell_type": "code",
      "source": [
        "y_test.head(3)"
      ],
      "metadata": {
        "colab": {
          "base_uri": "https://localhost:8080/"
        },
        "id": "fDEKW3f8mJWb",
        "outputId": "94401341-ffc4-41a2-a8fe-26fb5f925c71"
      },
      "execution_count": 34,
      "outputs": [
        {
          "output_type": "execute_result",
          "data": {
            "text/plain": [
              "197680    4\n",
              "434844    5\n",
              "444688    5\n",
              "Name: Sub_Cat, dtype: int64"
            ]
          },
          "metadata": {},
          "execution_count": 34
        }
      ]
    },
    {
      "cell_type": "code",
      "source": [
        "# Get unique classes and their counts\n",
        "unique_classes, counts = np.unique(y, return_counts=True)\n",
        "\n",
        "# Print the counts for each unique class\n",
        "for class_value, count in zip(unique_classes, counts):\n",
        "    print(f\"Class {class_value}: {count} occurrences\")"
      ],
      "metadata": {
        "colab": {
          "base_uri": "https://localhost:8080/"
        },
        "id": "b8Un1DrPgpJy",
        "outputId": "63ce3715-6931-4117-ac46-777c9acad5ab"
      },
      "execution_count": 35,
      "outputs": [
        {
          "output_type": "stream",
          "name": "stdout",
          "text": [
            "Class 0: 59391 occurrences\n",
            "Class 1: 35377 occurrences\n",
            "Class 2: 55124 occurrences\n",
            "Class 3: 55818 occurrences\n",
            "Class 4: 121181 occurrences\n",
            "Class 5: 183554 occurrences\n",
            "Class 6: 40073 occurrences\n",
            "Class 7: 22192 occurrences\n",
            "Class 8: 53073 occurrences\n"
          ]
        }
      ]
    },
    {
      "cell_type": "code",
      "source": [
        "x_test, x_valid, y_test, y_valid = train_test_split(X_test, y_test, test_size=0.4, random_state=42)"
      ],
      "metadata": {
        "id": "9jTTYVc4hDf7"
      },
      "execution_count": 36,
      "outputs": []
    },
    {
      "cell_type": "code",
      "source": [
        "print(\"len test\" , len(x_test))\n",
        "print(\"len valid\" ,len(x_valid) )\n",
        "print(\"len label_test\" , len(y_test))\n",
        "print(\"len label_valid\" ,len(y_valid) )"
      ],
      "metadata": {
        "colab": {
          "base_uri": "https://localhost:8080/"
        },
        "id": "xqK270t4hKPr",
        "outputId": "a662e6df-f4c4-4a0f-8819-a08ee02929e3"
      },
      "execution_count": 37,
      "outputs": [
        {
          "output_type": "stream",
          "name": "stdout",
          "text": [
            "len test 75094\n",
            "len valid 50063\n",
            "len label_test 75094\n",
            "len label_valid 50063\n"
          ]
        }
      ]
    },
    {
      "cell_type": "code",
      "source": [
        "from sklearn.preprocessing import MinMaxScaler\n",
        "\n",
        "scaler = MinMaxScaler()\n",
        "X_train_scaled = scaler.fit_transform(X_train)\n",
        "X_test_scaled = scaler.transform(x_test)\n",
        "X_valid_scaled = scaler.transform(x_valid)\n"
      ],
      "metadata": {
        "id": "WCzMpsmJhdc7"
      },
      "execution_count": 38,
      "outputs": []
    },
    {
      "cell_type": "code",
      "source": [
        "from keras.utils import to_categorical\n",
        "\n",
        "y_train_categorical = to_categorical(y_train)\n",
        "y_valid_categorical = to_categorical(y_valid)"
      ],
      "metadata": {
        "id": "I4_acDGPi3ut"
      },
      "execution_count": 39,
      "outputs": []
    },
    {
      "cell_type": "code",
      "source": [
        "y_test_categorical = to_categorical(y_test)"
      ],
      "metadata": {
        "id": "r0nPbv3yjdNB"
      },
      "execution_count": 40,
      "outputs": []
    },
    {
      "cell_type": "code",
      "source": [
        "# Early stopping callback\n",
        "early_stopping = EarlyStopping(monitor='val_loss', patience=2, restore_best_weights=True)\n",
        "\n",
        "# Model architecture for multi-class classification\n",
        "model = Sequential()\n",
        "model.add(Dense(64, input_dim=X_train_scaled.shape[1], activation='relu'))\n",
        "model.add(Dense(32, activation='relu'))\n",
        "model.add(Dense(9, activation='softmax'))  # Adjust the number of units for the number of classes\n",
        "model.compile(loss='categorical_crossentropy', optimizer=\"adam\", metrics=['accuracy'])\n",
        "\n",
        "# Training the model\n",
        "history = model.fit(X_train_scaled, y_train_categorical, epochs=10, batch_size=100, validation_data=(X_valid_scaled, y_valid_categorical), callbacks=[early_stopping])\n"
      ],
      "metadata": {
        "colab": {
          "base_uri": "https://localhost:8080/"
        },
        "id": "8pbB6NTuhs5B",
        "outputId": "b50f7d6b-31e1-425b-b089-00a53a5039b8"
      },
      "execution_count": 41,
      "outputs": [
        {
          "output_type": "stream",
          "name": "stdout",
          "text": [
            "Epoch 1/10\n",
            "5007/5007 [==============================] - 18s 3ms/step - loss: 0.4272 - accuracy: 0.7808 - val_loss: 0.3654 - val_accuracy: 0.7919\n",
            "Epoch 2/10\n",
            "5007/5007 [==============================] - 12s 2ms/step - loss: 0.3597 - accuracy: 0.7959 - val_loss: 0.3541 - val_accuracy: 0.7977\n",
            "Epoch 3/10\n",
            "5007/5007 [==============================] - 13s 3ms/step - loss: 0.3517 - accuracy: 0.7987 - val_loss: 0.3446 - val_accuracy: 0.8083\n",
            "Epoch 4/10\n",
            "5007/5007 [==============================] - 14s 3ms/step - loss: 0.3411 - accuracy: 0.8053 - val_loss: 0.3299 - val_accuracy: 0.8130\n",
            "Epoch 5/10\n",
            "5007/5007 [==============================] - 15s 3ms/step - loss: 0.3303 - accuracy: 0.8090 - val_loss: 0.3225 - val_accuracy: 0.8134\n",
            "Epoch 6/10\n",
            "5007/5007 [==============================] - 15s 3ms/step - loss: 0.3243 - accuracy: 0.8110 - val_loss: 0.3184 - val_accuracy: 0.8106\n",
            "Epoch 7/10\n",
            "5007/5007 [==============================] - 13s 3ms/step - loss: 0.3201 - accuracy: 0.8115 - val_loss: 0.3157 - val_accuracy: 0.8125\n",
            "Epoch 8/10\n",
            "5007/5007 [==============================] - 14s 3ms/step - loss: 0.3161 - accuracy: 0.8124 - val_loss: 0.3077 - val_accuracy: 0.8178\n",
            "Epoch 9/10\n",
            "5007/5007 [==============================] - 14s 3ms/step - loss: 0.3088 - accuracy: 0.8167 - val_loss: 0.3039 - val_accuracy: 0.8173\n",
            "Epoch 10/10\n",
            "5007/5007 [==============================] - 14s 3ms/step - loss: 0.3050 - accuracy: 0.8188 - val_loss: 0.3003 - val_accuracy: 0.8229\n"
          ]
        }
      ]
    },
    {
      "cell_type": "code",
      "source": [
        "import numpy as np\n",
        "\n",
        "unique_values = np.unique(y_test)\n",
        "print(unique_values)\n",
        "\n"
      ],
      "metadata": {
        "colab": {
          "base_uri": "https://localhost:8080/"
        },
        "id": "ZRzPh7cuh2DC",
        "outputId": "885788ca-fe38-426d-ded5-248ba55d5489"
      },
      "execution_count": 42,
      "outputs": [
        {
          "output_type": "stream",
          "name": "stdout",
          "text": [
            "[0 1 2 3 4 5 6 7 8]\n"
          ]
        }
      ]
    },
    {
      "cell_type": "code",
      "source": [
        "# Assuming X_test_scaled is your test data\n",
        "y_pred_prob = model.predict(X_test_scaled)\n",
        "\n",
        "# Convert predicted probabilities to class labels\n",
        "y_pred_labels = np.argmax(y_pred_prob, axis=1)\n",
        "\n",
        "# Convert true labels to class labels (assuming y_test_categorical is one-hot encoded)\n",
        "y_true_labels = np.argmax(y_test_categorical, axis=1)\n",
        "\n",
        "# Print confusion matrix and classification report\n",
        "print(confusion_matrix(y_true_labels, y_pred_labels))\n",
        "print(classification_report(y_true_labels, y_pred_labels))\n"
      ],
      "metadata": {
        "colab": {
          "base_uri": "https://localhost:8080/"
        },
        "id": "VTbzeEbulSHw",
        "outputId": "83138017-5b5e-4cd9-c59e-6ae41e201536"
      },
      "execution_count": 43,
      "outputs": [
        {
          "output_type": "stream",
          "name": "stdout",
          "text": [
            "2347/2347 [==============================] - 5s 2ms/step\n",
            "[[ 7218     1     0     0     0     0     0     0     0]\n",
            " [    0  4202     0     0     1     0     0     0     0]\n",
            " [    0     0   622    77     0  5840     0     0     0]\n",
            " [    0     0   563   217     0  6019     0     0     0]\n",
            " [    0     0     0     0 14504     0     0     0     0]\n",
            " [    0     0   557    72     0 21396     0     0     0]\n",
            " [    0     0     0     0     0     0  4752     0     0]\n",
            " [    0     0     0     0     0     0     0  2284   373]\n",
            " [    0     0     0     0     0     0     0    38  6358]]\n",
            "              precision    recall  f1-score   support\n",
            "\n",
            "           0       1.00      1.00      1.00      7219\n",
            "           1       1.00      1.00      1.00      4203\n",
            "           2       0.36      0.10      0.15      6539\n",
            "           3       0.59      0.03      0.06      6799\n",
            "           4       1.00      1.00      1.00     14504\n",
            "           5       0.64      0.97      0.77     22025\n",
            "           6       1.00      1.00      1.00      4752\n",
            "           7       0.98      0.86      0.92      2657\n",
            "           8       0.94      0.99      0.97      6396\n",
            "\n",
            "    accuracy                           0.82     75094\n",
            "   macro avg       0.84      0.77      0.76     75094\n",
            "weighted avg       0.80      0.82      0.77     75094\n",
            "\n"
          ]
        }
      ]
    },
    {
      "cell_type": "code",
      "source": [
        "# Plot the training and validation loss\n",
        "plt.plot(history.history['loss'], label='Training Loss')\n",
        "plt.plot(history.history['val_loss'], label='Validation Loss')\n",
        "plt.title('Training and Validation Loss')\n",
        "plt.xlabel('Epoch')\n",
        "plt.ylabel('Loss')\n",
        "plt.legend()\n",
        "plt.show()"
      ],
      "metadata": {
        "colab": {
          "base_uri": "https://localhost:8080/",
          "height": 472
        },
        "id": "j1mrT-I_h2dv",
        "outputId": "a8bf83bc-0a34-44f3-b666-311805a8c05e"
      },
      "execution_count": 44,
      "outputs": [
        {
          "output_type": "display_data",
          "data": {
            "text/plain": [
              "<Figure size 640x480 with 1 Axes>"
            ],
            "image/png": "[encoded data removed]"
          },
          "metadata": {}
        }
      ]
    },
    {
      "cell_type": "code",
      "source": [
        "import seaborn as sns\n",
        "from sklearn.metrics import confusion_matrix\n",
        "import matplotlib.pyplot as plt\n",
        "\n",
        "# ... (your previous code)\n",
        "\n",
        "# Compute confusion matrix\n",
        "cm = confusion_matrix(y_true_labels, y_pred_labels)\n",
        "\n",
        "# Plot confusion matrix\n",
        "plt.figure(figsize=(8, 6))\n",
        "sns.heatmap(cm, annot=True, fmt=\"d\", cmap=\"Blues\", xticklabels=['0', '1'], yticklabels=['0', '1'])\n",
        "plt.title('Confusion Matrix')\n",
        "plt.xlabel('Predicted')\n",
        "plt.ylabel('True')\n",
        "plt.show()\n",
        "\n",
        "# ... (the rest of your code)\n"
      ],
      "metadata": {
        "colab": {
          "base_uri": "https://localhost:8080/",
          "height": 564
        },
        "id": "ZKXBvl1ckT0R",
        "outputId": "ab42aec5-b9b6-46cc-de78-9087a573d7cc"
      },
      "execution_count": 50,
      "outputs": [
        {
          "output_type": "display_data",
          "data": {
            "text/plain": [
              "<Figure size 800x600 with 2 Axes>"
            ],
            "image/png": "[encoded data removed]"
          },
          "metadata": {}
        }
      ]
    },
    {
      "cell_type": "code",
      "source": [],
      "metadata": {
        "id": "v02WAzQWkjX8"
      },
      "execution_count": 47,
      "outputs": []
    },
    {
      "cell_type": "code",
      "source": [],
      "metadata": {
        "id": "GVsXoiWah-dT"
      },
      "execution_count": 86,
      "outputs": []
    },
    {
      "cell_type": "code",
      "source": [],
      "metadata": {
        "id": "Wa7dK8j7kMw5"
      },
      "execution_count": 86,
      "outputs": []
    },
    {
      "cell_type": "code",
      "source": [],
      "metadata": {
        "id": "ry7l0buFh-wF"
      },
      "execution_count": 86,
      "outputs": []
    },
    {
      "cell_type": "code",
      "source": [],
      "metadata": {
        "id": "IAnKb2YckH-1"
      },
      "execution_count": null,
      "outputs": []
    }
  ]
}